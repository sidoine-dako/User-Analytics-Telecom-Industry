{
 "cells": [
  {
   "cell_type": "markdown",
   "id": "27244785",
   "metadata": {},
   "source": [
    "# TASK 1: User Overview analysis"
   ]
  },
  {
   "cell_type": "code",
   "execution_count": 1,
   "id": "3d27f3a7",
   "metadata": {},
   "outputs": [],
   "source": [
    "# Import the libraries\n",
    "import pandas as pd\n",
    "import numpy as np\n",
    "import matplotlib.pyplot as plt\n",
    "import seaborn as sns"
   ]
  },
  {
   "cell_type": "code",
   "execution_count": 2,
   "id": "b8ed38e5",
   "metadata": {},
   "outputs": [],
   "source": [
    "import sys\n",
    "sys.path.append('../scripts')\n",
    "from Clean_data import clean_data"
   ]
  },
  {
   "cell_type": "code",
   "execution_count": 3,
   "id": "4ad6927a",
   "metadata": {},
   "outputs": [
    {
     "name": "stdout",
     "output_type": "stream",
     "text": [
      "<class 'pandas.core.frame.DataFrame'>\n",
      "RangeIndex: 150001 entries, 0 to 150000\n",
      "Data columns (total 55 columns):\n",
      " #   Column                                    Non-Null Count   Dtype  \n",
      "---  ------                                    --------------   -----  \n",
      " 0   Bearer Id                                 149010 non-null  float64\n",
      " 1   Start                                     150000 non-null  object \n",
      " 2   Start ms                                  150000 non-null  float64\n",
      " 3   End                                       150000 non-null  object \n",
      " 4   End ms                                    150000 non-null  float64\n",
      " 5   Dur. (ms)                                 150000 non-null  float64\n",
      " 6   IMSI                                      149431 non-null  float64\n",
      " 7   MSISDN/Number                             148935 non-null  float64\n",
      " 8   IMEI                                      149429 non-null  float64\n",
      " 9   Last Location Name                        148848 non-null  object \n",
      " 10  Avg RTT DL (ms)                           122172 non-null  float64\n",
      " 11  Avg RTT UL (ms)                           122189 non-null  float64\n",
      " 12  Avg Bearer TP DL (kbps)                   150000 non-null  float64\n",
      " 13  Avg Bearer TP UL (kbps)                   150000 non-null  float64\n",
      " 14  TCP DL Retrans. Vol (Bytes)               61855 non-null   float64\n",
      " 15  TCP UL Retrans. Vol (Bytes)               53352 non-null   float64\n",
      " 16  DL TP < 50 Kbps (%)                       149247 non-null  float64\n",
      " 17  50 Kbps < DL TP < 250 Kbps (%)            149247 non-null  float64\n",
      " 18  250 Kbps < DL TP < 1 Mbps (%)             149247 non-null  float64\n",
      " 19  DL TP > 1 Mbps (%)                        149247 non-null  float64\n",
      " 20  UL TP < 10 Kbps (%)                       149209 non-null  float64\n",
      " 21  10 Kbps < UL TP < 50 Kbps (%)             149209 non-null  float64\n",
      " 22  50 Kbps < UL TP < 300 Kbps (%)            149209 non-null  float64\n",
      " 23  UL TP > 300 Kbps (%)                      149209 non-null  float64\n",
      " 24  HTTP DL (Bytes)                           68527 non-null   float64\n",
      " 25  HTTP UL (Bytes)                           68191 non-null   float64\n",
      " 26  Activity Duration DL (ms)                 150000 non-null  float64\n",
      " 27  Activity Duration UL (ms)                 150000 non-null  float64\n",
      " 28  Dur. (ms).1                               150000 non-null  float64\n",
      " 29  Handset Manufacturer                      149429 non-null  object \n",
      " 30  Handset Type                              149429 non-null  object \n",
      " 31  Nb of sec with 125000B < Vol DL           52463 non-null   float64\n",
      " 32  Nb of sec with 1250B < Vol UL < 6250B     57107 non-null   float64\n",
      " 33  Nb of sec with 31250B < Vol DL < 125000B  56415 non-null   float64\n",
      " 34  Nb of sec with 37500B < Vol UL            19747 non-null   float64\n",
      " 35  Nb of sec with 6250B < Vol DL < 31250B    61684 non-null   float64\n",
      " 36  Nb of sec with 6250B < Vol UL < 37500B    38158 non-null   float64\n",
      " 37  Nb of sec with Vol DL < 6250B             149246 non-null  float64\n",
      " 38  Nb of sec with Vol UL < 1250B             149208 non-null  float64\n",
      " 39  Social Media DL (Bytes)                   150001 non-null  float64\n",
      " 40  Social Media UL (Bytes)                   150001 non-null  float64\n",
      " 41  Google DL (Bytes)                         150001 non-null  float64\n",
      " 42  Google UL (Bytes)                         150001 non-null  float64\n",
      " 43  Email DL (Bytes)                          150001 non-null  float64\n",
      " 44  Email UL (Bytes)                          150001 non-null  float64\n",
      " 45  Youtube DL (Bytes)                        150001 non-null  float64\n",
      " 46  Youtube UL (Bytes)                        150001 non-null  float64\n",
      " 47  Netflix DL (Bytes)                        150001 non-null  float64\n",
      " 48  Netflix UL (Bytes)                        150001 non-null  float64\n",
      " 49  Gaming DL (Bytes)                         150001 non-null  float64\n",
      " 50  Gaming UL (Bytes)                         150001 non-null  float64\n",
      " 51  Other DL (Bytes)                          150001 non-null  float64\n",
      " 52  Other UL (Bytes)                          150001 non-null  float64\n",
      " 53  Total UL (Bytes)                          150000 non-null  float64\n",
      " 54  Total DL (Bytes)                          150000 non-null  float64\n",
      "dtypes: float64(50), object(5)\n",
      "memory usage: 62.9+ MB\n"
     ]
    }
   ],
   "source": [
    "# Import the dataset\n",
    "df = pd.read_csv(\"../data/Week1_challenge_data_source(CSV).csv\")\n",
    "df.info()"
   ]
  },
  {
   "cell_type": "markdown",
   "id": "92325609",
   "metadata": {},
   "source": [
    "## Sub-tasks"
   ]
  },
  {
   "cell_type": "markdown",
   "id": "76dca634",
   "metadata": {},
   "source": [
    ">## Identifying the top 10 handsets used by the customers </br>"
   ]
  },
  {
   "cell_type": "markdown",
   "id": "91a53df3",
   "metadata": {},
   "source": [
    "The handsets type of the customers are stored in the column named `Handset Type`. But before extracting the information for this column, we should identify each unique user/customer. As a matter of fact, a customer can be identified by either his/her IMSI, MSISDN/number or IMEI."
   ]
  },
  {
   "cell_type": "code",
   "execution_count": 4,
   "id": "af657b65",
   "metadata": {},
   "outputs": [
    {
     "data": {
      "text/plain": [
       "MSISDN/Number    1066\n",
       "IMEI              572\n",
       "Handset Type      572\n",
       "IMSI              570\n",
       "dtype: int64"
      ]
     },
     "execution_count": 4,
     "metadata": {},
     "output_type": "execute_result"
    }
   ],
   "source": [
    "# Search the column that have the less number of missing values\n",
    "IdVariable = clean_data(df[['IMSI','MSISDN/Number', 'IMEI','Handset Type']])\n",
    "missingCol,_,_ = IdVariable.missing_values(verbose=False)\n",
    "missingCol"
   ]
  },
  {
   "cell_type": "markdown",
   "id": "a99f1b96",
   "metadata": {},
   "source": [
    "Thus one can choose to use the `IMSI` to identify each customer because we get more information using this field instead of `IMEI` or `MSISDN/Number`. Nethertheless, one can also choose to use the `IMEI`. Since we're looking for the handset type, we can just focus on the **IMEI** because it's an unique number which identify a device on a mobile network. Furthermore, without the IMEI, we can't identify the handset type - this is the reason why we get the same number of missing values for those two columns. Even if, we get less missing values for IMSI, this caracteristics does not ensure that we'll get the maximum of information relative to the handset type."
   ]
  },
  {
   "cell_type": "code",
   "execution_count": 5,
   "id": "572d04e5",
   "metadata": {},
   "outputs": [
    {
     "data": {
      "text/plain": [
       "Huawei B528S-23A                10638\n",
       "Apple iPhone 6S (A1688)          6765\n",
       "undefined                        6716\n",
       "Apple iPhone 6 (A1586)           6271\n",
       "Apple iPhone 7 (A1778)           4721\n",
       "Apple iPhone Se (A1723)          3764\n",
       "Apple iPhone 8 (A1905)           3550\n",
       "Samsung Galaxy S8 (Sm-G950F)     3275\n",
       "Apple iPhone Xr (A2105)          3077\n",
       "Samsung Galaxy J5 (Sm-J530)      2760\n",
       "Name: Handset Type, dtype: int64"
      ]
     },
     "execution_count": 5,
     "metadata": {},
     "output_type": "execute_result"
    }
   ],
   "source": [
    "# Extract the unique customer from the table\n",
    "UniqueUser = df.loc[:,['IMEI','Handset Manufacturer','Handset Type']].dropna(how=\"all\")\n",
    "# Drop the duplicates\n",
    "UniqueUser = UniqueUser.drop_duplicates()\n",
    "# Count the number of each handset type and identify the top 10\n",
    "UniqueUser.loc[:,'Handset Type'].value_counts()[:10]"
   ]
  },
  {
   "cell_type": "code",
   "execution_count": 6,
   "id": "fb7283b8",
   "metadata": {},
   "outputs": [
    {
     "data": {
      "text/plain": [
       "Huawei B528S-23A                10638\n",
       "Apple iPhone 6S (A1688)          6765\n",
       "Apple iPhone 6 (A1586)           6271\n",
       "Apple iPhone 7 (A1778)           4721\n",
       "Apple iPhone Se (A1723)          3764\n",
       "Apple iPhone 8 (A1905)           3550\n",
       "Samsung Galaxy S8 (Sm-G950F)     3275\n",
       "Apple iPhone Xr (A2105)          3077\n",
       "Samsung Galaxy J5 (Sm-J530)      2760\n",
       "Samsung Galaxy A5 Sm-A520F       2721\n",
       "Name: Handset Type, dtype: int64"
      ]
     },
     "execution_count": 6,
     "metadata": {},
     "output_type": "execute_result"
    }
   ],
   "source": [
    "# Count the number of each handset type and identify the top 10 (without undefined handset type)\n",
    "UniqueUser.query(\"`Handset Type`!='undefined'\").loc[:,'Handset Type'].value_counts()[:10]"
   ]
  },
  {
   "cell_type": "markdown",
   "id": "5dbeece5",
   "metadata": {},
   "source": [
    ">## Identify the three top handset manufacturer"
   ]
  },
  {
   "cell_type": "code",
   "execution_count": 7,
   "id": "1cb20734",
   "metadata": {},
   "outputs": [],
   "source": [
    "def topNManufacturer(df,topn=3):\n",
    "    toNMan = df.loc[:,'Handset Manufacturer'].value_counts()[:topn]\n",
    "    return toNMan"
   ]
  },
  {
   "cell_type": "code",
   "execution_count": 8,
   "id": "db1817c2",
   "metadata": {},
   "outputs": [
    {
     "data": {
      "text/plain": [
       "Apple      42687\n",
       "Samsung    30981\n",
       "Huawei     21743\n",
       "Name: Handset Manufacturer, dtype: int64"
      ]
     },
     "execution_count": 8,
     "metadata": {},
     "output_type": "execute_result"
    }
   ],
   "source": [
    "# Identify the top 3 manufacturer\n",
    "topNManufacturer(UniqueUser,topn=3)"
   ]
  },
  {
   "cell_type": "markdown",
   "id": "7c0235d4",
   "metadata": {},
   "source": [
    ">## Identify the top 5 handsets per top 3 handset manufacturer"
   ]
  },
  {
   "cell_type": "code",
   "execution_count": 9,
   "id": "1444eaad",
   "metadata": {},
   "outputs": [],
   "source": [
    "# Function to extract the top n type of handset for the top m manufacturer\n",
    "def topTypeManufact(df=UniqueUser,nmanufact=3,ntype=5):\n",
    "    topNManufact = df.loc[:,'Handset Manufacturer'].value_counts()[:nmanufact]\n",
    "    res = pd.DataFrame(columns=['Manufacturer','Type','Count'])\n",
    "    for manufacturer in topNManufact.index:\n",
    "        temp = df.loc[UniqueUser['Handset Manufacturer']==manufacturer,'Handset Type'].value_counts()[:ntype]\n",
    "        temp = pd.DataFrame({'Manufacturer':[manufacturer]*ntype,'Type':temp.index,'Count':temp.to_list()})\n",
    "        res = pd.concat([res,temp])\n",
    "    return res.reset_index(drop=True)"
   ]
  },
  {
   "cell_type": "code",
   "execution_count": 10,
   "id": "9ec830f5",
   "metadata": {},
   "outputs": [
    {
     "data": {
      "text/html": [
       "<div>\n",
       "<style scoped>\n",
       "    .dataframe tbody tr th:only-of-type {\n",
       "        vertical-align: middle;\n",
       "    }\n",
       "\n",
       "    .dataframe tbody tr th {\n",
       "        vertical-align: top;\n",
       "    }\n",
       "\n",
       "    .dataframe thead th {\n",
       "        text-align: right;\n",
       "    }\n",
       "</style>\n",
       "<table border=\"1\" class=\"dataframe\">\n",
       "  <thead>\n",
       "    <tr style=\"text-align: right;\">\n",
       "      <th></th>\n",
       "      <th>Manufacturer</th>\n",
       "      <th>Type</th>\n",
       "      <th>Count</th>\n",
       "    </tr>\n",
       "  </thead>\n",
       "  <tbody>\n",
       "    <tr>\n",
       "      <th>0</th>\n",
       "      <td>Apple</td>\n",
       "      <td>Apple iPhone 6S (A1688)</td>\n",
       "      <td>6765</td>\n",
       "    </tr>\n",
       "    <tr>\n",
       "      <th>1</th>\n",
       "      <td>Apple</td>\n",
       "      <td>Apple iPhone 6 (A1586)</td>\n",
       "      <td>6271</td>\n",
       "    </tr>\n",
       "    <tr>\n",
       "      <th>2</th>\n",
       "      <td>Apple</td>\n",
       "      <td>Apple iPhone 7 (A1778)</td>\n",
       "      <td>4721</td>\n",
       "    </tr>\n",
       "    <tr>\n",
       "      <th>3</th>\n",
       "      <td>Apple</td>\n",
       "      <td>Apple iPhone Se (A1723)</td>\n",
       "      <td>3764</td>\n",
       "    </tr>\n",
       "    <tr>\n",
       "      <th>4</th>\n",
       "      <td>Apple</td>\n",
       "      <td>Apple iPhone 8 (A1905)</td>\n",
       "      <td>3550</td>\n",
       "    </tr>\n",
       "    <tr>\n",
       "      <th>5</th>\n",
       "      <td>Samsung</td>\n",
       "      <td>Samsung Galaxy S8 (Sm-G950F)</td>\n",
       "      <td>3275</td>\n",
       "    </tr>\n",
       "    <tr>\n",
       "      <th>6</th>\n",
       "      <td>Samsung</td>\n",
       "      <td>Samsung Galaxy J5 (Sm-J530)</td>\n",
       "      <td>2760</td>\n",
       "    </tr>\n",
       "    <tr>\n",
       "      <th>7</th>\n",
       "      <td>Samsung</td>\n",
       "      <td>Samsung Galaxy A5 Sm-A520F</td>\n",
       "      <td>2721</td>\n",
       "    </tr>\n",
       "    <tr>\n",
       "      <th>8</th>\n",
       "      <td>Samsung</td>\n",
       "      <td>Samsung Galaxy J3 (Sm-J330)</td>\n",
       "      <td>2606</td>\n",
       "    </tr>\n",
       "    <tr>\n",
       "      <th>9</th>\n",
       "      <td>Samsung</td>\n",
       "      <td>Samsung Galaxy S7 (Sm-G930X)</td>\n",
       "      <td>2310</td>\n",
       "    </tr>\n",
       "    <tr>\n",
       "      <th>10</th>\n",
       "      <td>Huawei</td>\n",
       "      <td>Huawei B528S-23A</td>\n",
       "      <td>10638</td>\n",
       "    </tr>\n",
       "    <tr>\n",
       "      <th>11</th>\n",
       "      <td>Huawei</td>\n",
       "      <td>Huawei P20 Lite Huawei Nova 3E</td>\n",
       "      <td>1534</td>\n",
       "    </tr>\n",
       "    <tr>\n",
       "      <th>12</th>\n",
       "      <td>Huawei</td>\n",
       "      <td>Huawei E5180</td>\n",
       "      <td>1185</td>\n",
       "    </tr>\n",
       "    <tr>\n",
       "      <th>13</th>\n",
       "      <td>Huawei</td>\n",
       "      <td>Huawei P20</td>\n",
       "      <td>1110</td>\n",
       "    </tr>\n",
       "    <tr>\n",
       "      <th>14</th>\n",
       "      <td>Huawei</td>\n",
       "      <td>Huawei Y6 2018</td>\n",
       "      <td>757</td>\n",
       "    </tr>\n",
       "  </tbody>\n",
       "</table>\n",
       "</div>"
      ],
      "text/plain": [
       "   Manufacturer                            Type  Count\n",
       "0         Apple         Apple iPhone 6S (A1688)   6765\n",
       "1         Apple          Apple iPhone 6 (A1586)   6271\n",
       "2         Apple          Apple iPhone 7 (A1778)   4721\n",
       "3         Apple         Apple iPhone Se (A1723)   3764\n",
       "4         Apple          Apple iPhone 8 (A1905)   3550\n",
       "5       Samsung    Samsung Galaxy S8 (Sm-G950F)   3275\n",
       "6       Samsung     Samsung Galaxy J5 (Sm-J530)   2760\n",
       "7       Samsung      Samsung Galaxy A5 Sm-A520F   2721\n",
       "8       Samsung     Samsung Galaxy J3 (Sm-J330)   2606\n",
       "9       Samsung    Samsung Galaxy S7 (Sm-G930X)   2310\n",
       "10       Huawei                Huawei B528S-23A  10638\n",
       "11       Huawei  Huawei P20 Lite Huawei Nova 3E   1534\n",
       "12       Huawei                    Huawei E5180   1185\n",
       "13       Huawei                      Huawei P20   1110\n",
       "14       Huawei                  Huawei Y6 2018    757"
      ]
     },
     "execution_count": 10,
     "metadata": {},
     "output_type": "execute_result"
    }
   ],
   "source": [
    "# Identify the top 5 handsets per top 3 handset manufacturer\n",
    "topTypeManufact(df=UniqueUser,nmanufact=3,ntype=5)"
   ]
  },
  {
   "cell_type": "markdown",
   "id": "8c6821c0",
   "metadata": {},
   "source": [
    ">## Task 1.1: Get an overview of the users’ behavior on those applications"
   ]
  },
  {
   "cell_type": "code",
   "execution_count": 15,
   "id": "1b471eb1",
   "metadata": {},
   "outputs": [
    {
     "data": {
      "text/html": [
       "<div>\n",
       "<style scoped>\n",
       "    .dataframe tbody tr th:only-of-type {\n",
       "        vertical-align: middle;\n",
       "    }\n",
       "\n",
       "    .dataframe tbody tr th {\n",
       "        vertical-align: top;\n",
       "    }\n",
       "\n",
       "    .dataframe thead th {\n",
       "        text-align: right;\n",
       "    }\n",
       "</style>\n",
       "<table border=\"1\" class=\"dataframe\">\n",
       "  <thead>\n",
       "    <tr style=\"text-align: right;\">\n",
       "      <th></th>\n",
       "      <th>Bearer Id</th>\n",
       "    </tr>\n",
       "    <tr>\n",
       "      <th>IMSI</th>\n",
       "      <th></th>\n",
       "    </tr>\n",
       "  </thead>\n",
       "  <tbody>\n",
       "    <tr>\n",
       "      <th>2.040471e+14</th>\n",
       "      <td>1</td>\n",
       "    </tr>\n",
       "    <tr>\n",
       "      <th>2.040808e+14</th>\n",
       "      <td>1</td>\n",
       "    </tr>\n",
       "    <tr>\n",
       "      <th>2.082001e+14</th>\n",
       "      <td>1</td>\n",
       "    </tr>\n",
       "    <tr>\n",
       "      <th>2.082001e+14</th>\n",
       "      <td>1</td>\n",
       "    </tr>\n",
       "    <tr>\n",
       "      <th>2.082001e+14</th>\n",
       "      <td>2</td>\n",
       "    </tr>\n",
       "    <tr>\n",
       "      <th>...</th>\n",
       "      <td>...</td>\n",
       "    </tr>\n",
       "    <tr>\n",
       "      <th>2.082099e+14</th>\n",
       "      <td>1</td>\n",
       "    </tr>\n",
       "    <tr>\n",
       "      <th>2.082099e+14</th>\n",
       "      <td>1</td>\n",
       "    </tr>\n",
       "    <tr>\n",
       "      <th>2.082099e+14</th>\n",
       "      <td>1</td>\n",
       "    </tr>\n",
       "    <tr>\n",
       "      <th>2.082522e+14</th>\n",
       "      <td>1</td>\n",
       "    </tr>\n",
       "    <tr>\n",
       "      <th>2.140743e+14</th>\n",
       "      <td>1</td>\n",
       "    </tr>\n",
       "  </tbody>\n",
       "</table>\n",
       "<p>107265 rows × 1 columns</p>\n",
       "</div>"
      ],
      "text/plain": [
       "              Bearer Id\n",
       "IMSI                   \n",
       "2.040471e+14          1\n",
       "2.040808e+14          1\n",
       "2.082001e+14          1\n",
       "2.082001e+14          1\n",
       "2.082001e+14          2\n",
       "...                 ...\n",
       "2.082099e+14          1\n",
       "2.082099e+14          1\n",
       "2.082099e+14          1\n",
       "2.082522e+14          1\n",
       "2.140743e+14          1\n",
       "\n",
       "[107265 rows x 1 columns]"
      ]
     },
     "execution_count": 15,
     "metadata": {},
     "output_type": "execute_result"
    }
   ],
   "source": [
    "df[['IMSI','Bearer Id']].groupby(\"IMSI\").count()"
   ]
  },
  {
   "cell_type": "code",
   "execution_count": 17,
   "id": "210e28d9",
   "metadata": {},
   "outputs": [
    {
     "data": {
      "text/html": [
       "<div>\n",
       "<style scoped>\n",
       "    .dataframe tbody tr th:only-of-type {\n",
       "        vertical-align: middle;\n",
       "    }\n",
       "\n",
       "    .dataframe tbody tr th {\n",
       "        vertical-align: top;\n",
       "    }\n",
       "\n",
       "    .dataframe thead th {\n",
       "        text-align: right;\n",
       "    }\n",
       "</style>\n",
       "<table border=\"1\" class=\"dataframe\">\n",
       "  <thead>\n",
       "    <tr style=\"text-align: right;\">\n",
       "      <th></th>\n",
       "      <th>Dur. (ms)</th>\n",
       "    </tr>\n",
       "    <tr>\n",
       "      <th>IMSI</th>\n",
       "      <th></th>\n",
       "    </tr>\n",
       "  </thead>\n",
       "  <tbody>\n",
       "    <tr>\n",
       "      <th>2.040471e+14</th>\n",
       "      <td>869844.0</td>\n",
       "    </tr>\n",
       "    <tr>\n",
       "      <th>2.040808e+14</th>\n",
       "      <td>877385.0</td>\n",
       "    </tr>\n",
       "    <tr>\n",
       "      <th>2.082001e+14</th>\n",
       "      <td>86019.0</td>\n",
       "    </tr>\n",
       "    <tr>\n",
       "      <th>2.082001e+14</th>\n",
       "      <td>86254.0</td>\n",
       "    </tr>\n",
       "    <tr>\n",
       "      <th>2.082001e+14</th>\n",
       "      <td>573923.0</td>\n",
       "    </tr>\n",
       "    <tr>\n",
       "      <th>...</th>\n",
       "      <td>...</td>\n",
       "    </tr>\n",
       "    <tr>\n",
       "      <th>2.082099e+14</th>\n",
       "      <td>127367.0</td>\n",
       "    </tr>\n",
       "    <tr>\n",
       "      <th>2.082099e+14</th>\n",
       "      <td>168543.0</td>\n",
       "    </tr>\n",
       "    <tr>\n",
       "      <th>2.082099e+14</th>\n",
       "      <td>86399.0</td>\n",
       "    </tr>\n",
       "    <tr>\n",
       "      <th>2.082522e+14</th>\n",
       "      <td>56613.0</td>\n",
       "    </tr>\n",
       "    <tr>\n",
       "      <th>2.140743e+14</th>\n",
       "      <td>226790.0</td>\n",
       "    </tr>\n",
       "  </tbody>\n",
       "</table>\n",
       "<p>107265 rows × 1 columns</p>\n",
       "</div>"
      ],
      "text/plain": [
       "              Dur. (ms)\n",
       "IMSI                   \n",
       "2.040471e+14   869844.0\n",
       "2.040808e+14   877385.0\n",
       "2.082001e+14    86019.0\n",
       "2.082001e+14    86254.0\n",
       "2.082001e+14   573923.0\n",
       "...                 ...\n",
       "2.082099e+14   127367.0\n",
       "2.082099e+14   168543.0\n",
       "2.082099e+14    86399.0\n",
       "2.082522e+14    56613.0\n",
       "2.140743e+14   226790.0\n",
       "\n",
       "[107265 rows x 1 columns]"
      ]
     },
     "execution_count": 17,
     "metadata": {},
     "output_type": "execute_result"
    }
   ],
   "source": [
    "df[['IMSI','Dur. (ms)']].groupby(\"IMSI\").sum()"
   ]
  },
  {
   "cell_type": "code",
   "execution_count": 23,
   "id": "5c84823b",
   "metadata": {},
   "outputs": [
    {
     "data": {
      "text/html": [
       "<div>\n",
       "<style scoped>\n",
       "    .dataframe tbody tr th:only-of-type {\n",
       "        vertical-align: middle;\n",
       "    }\n",
       "\n",
       "    .dataframe tbody tr th {\n",
       "        vertical-align: top;\n",
       "    }\n",
       "\n",
       "    .dataframe thead th {\n",
       "        text-align: right;\n",
       "    }\n",
       "</style>\n",
       "<table border=\"1\" class=\"dataframe\">\n",
       "  <thead>\n",
       "    <tr style=\"text-align: right;\">\n",
       "      <th></th>\n",
       "      <th>Total UL (Bytes)</th>\n",
       "      <th>Total DL (Bytes)</th>\n",
       "    </tr>\n",
       "    <tr>\n",
       "      <th>IMSI</th>\n",
       "      <th></th>\n",
       "      <th></th>\n",
       "    </tr>\n",
       "  </thead>\n",
       "  <tbody>\n",
       "    <tr>\n",
       "      <th>2.040471e+14</th>\n",
       "      <td>60456049.0</td>\n",
       "      <td>78697597.0</td>\n",
       "    </tr>\n",
       "    <tr>\n",
       "      <th>2.040808e+14</th>\n",
       "      <td>37295915.0</td>\n",
       "      <td>194828056.0</td>\n",
       "    </tr>\n",
       "    <tr>\n",
       "      <th>2.082001e+14</th>\n",
       "      <td>53794658.0</td>\n",
       "      <td>31376981.0</td>\n",
       "    </tr>\n",
       "    <tr>\n",
       "      <th>2.082001e+14</th>\n",
       "      <td>33583272.0</td>\n",
       "      <td>392918313.0</td>\n",
       "    </tr>\n",
       "    <tr>\n",
       "      <th>2.082001e+14</th>\n",
       "      <td>71325004.0</td>\n",
       "      <td>961767023.0</td>\n",
       "    </tr>\n",
       "    <tr>\n",
       "      <th>...</th>\n",
       "      <td>...</td>\n",
       "      <td>...</td>\n",
       "    </tr>\n",
       "    <tr>\n",
       "      <th>2.082099e+14</th>\n",
       "      <td>33888182.0</td>\n",
       "      <td>688815403.0</td>\n",
       "    </tr>\n",
       "    <tr>\n",
       "      <th>2.082099e+14</th>\n",
       "      <td>44692550.0</td>\n",
       "      <td>451173021.0</td>\n",
       "    </tr>\n",
       "    <tr>\n",
       "      <th>2.082099e+14</th>\n",
       "      <td>30355487.0</td>\n",
       "      <td>307825104.0</td>\n",
       "    </tr>\n",
       "    <tr>\n",
       "      <th>2.082522e+14</th>\n",
       "      <td>45083854.0</td>\n",
       "      <td>800629358.0</td>\n",
       "    </tr>\n",
       "    <tr>\n",
       "      <th>2.140743e+14</th>\n",
       "      <td>57382080.0</td>\n",
       "      <td>637123579.0</td>\n",
       "    </tr>\n",
       "  </tbody>\n",
       "</table>\n",
       "<p>107265 rows × 2 columns</p>\n",
       "</div>"
      ],
      "text/plain": [
       "              Total UL (Bytes)  Total DL (Bytes)\n",
       "IMSI                                            \n",
       "2.040471e+14        60456049.0        78697597.0\n",
       "2.040808e+14        37295915.0       194828056.0\n",
       "2.082001e+14        53794658.0        31376981.0\n",
       "2.082001e+14        33583272.0       392918313.0\n",
       "2.082001e+14        71325004.0       961767023.0\n",
       "...                        ...               ...\n",
       "2.082099e+14        33888182.0       688815403.0\n",
       "2.082099e+14        44692550.0       451173021.0\n",
       "2.082099e+14        30355487.0       307825104.0\n",
       "2.082522e+14        45083854.0       800629358.0\n",
       "2.140743e+14        57382080.0       637123579.0\n",
       "\n",
       "[107265 rows x 2 columns]"
      ]
     },
     "execution_count": 23,
     "metadata": {},
     "output_type": "execute_result"
    }
   ],
   "source": [
    "df[['IMSI','Total UL (Bytes)','Total DL (Bytes)']].groupby(\"IMSI\").sum()"
   ]
  },
  {
   "cell_type": "code",
   "execution_count": 22,
   "id": "9406e970",
   "metadata": {},
   "outputs": [
    {
     "data": {
      "text/plain": [
       "IMSI\n",
       "2.040471e+14    1.391536e+08\n",
       "2.040808e+14    2.321240e+08\n",
       "2.082001e+14    8.517164e+07\n",
       "2.082001e+14    4.265016e+08\n",
       "2.082001e+14    1.033092e+09\n",
       "                    ...     \n",
       "2.082099e+14    7.227036e+08\n",
       "2.082099e+14    4.958656e+08\n",
       "2.082099e+14    3.381806e+08\n",
       "2.082522e+14    8.457132e+08\n",
       "2.140743e+14    6.945057e+08\n",
       "Length: 107265, dtype: float64"
      ]
     },
     "execution_count": 22,
     "metadata": {},
     "output_type": "execute_result"
    }
   ],
   "source": [
    "df[['IMSI','Total UL (Bytes)','Total DL (Bytes)']].groupby(\"IMSI\").sum().sum(axis=1)"
   ]
  },
  {
   "cell_type": "code",
   "execution_count": 34,
   "id": "71b64bba",
   "metadata": {},
   "outputs": [],
   "source": [
    "dfData = df.loc[:,['IMSI','Social Media DL (Bytes)','Social Media UL (Bytes)',\n",
    "                                  'Google DL (Bytes)', 'Google UL (Bytes)', 'Email DL (Bytes)',\n",
    "                                  'Email UL (Bytes)', 'Youtube DL (Bytes)', 'Youtube UL (Bytes)',\n",
    "                                  'Netflix DL (Bytes)', 'Netflix UL (Bytes)', 'Gaming DL (Bytes)',\n",
    "                                  'Gaming UL (Bytes)', 'Other DL (Bytes)', 'Other UL (Bytes)',\n",
    "                                  'Total UL (Bytes)', 'Total DL (Bytes)']]"
   ]
  },
  {
   "cell_type": "code",
   "execution_count": null,
   "id": "27a7efcf",
   "metadata": {},
   "outputs": [],
   "source": []
  },
  {
   "cell_type": "code",
   "execution_count": 45,
   "id": "0d564b19",
   "metadata": {},
   "outputs": [
    {
     "name": "stdout",
     "output_type": "stream",
     "text": [
      "['Social Media DL (Bytes)', 'Social Media UL (Bytes)']\n"
     ]
    }
   ],
   "source": [
    "SocialMediaCol = [col for col in dfData.columns if 'Social Media' in col]\n",
    "print(SocialMediaCol)"
   ]
  },
  {
   "cell_type": "code",
   "execution_count": 49,
   "id": "f2446856",
   "metadata": {},
   "outputs": [
    {
     "data": {
      "text/plain": [
       "0         1.570185e+06\n",
       "1         1.933278e+06\n",
       "2         1.726277e+06\n",
       "3         6.574930e+05\n",
       "4         9.127880e+05\n",
       "              ...     \n",
       "149996    3.517065e+06\n",
       "149997    2.352181e+06\n",
       "149998    1.260239e+06\n",
       "149999    8.231090e+05\n",
       "150000    1.828250e+06\n",
       "Length: 150001, dtype: float64"
      ]
     },
     "execution_count": 49,
     "metadata": {},
     "output_type": "execute_result"
    }
   ],
   "source": [
    "dfData[SocialMediaCol].sum(1)"
   ]
  },
  {
   "cell_type": "code",
   "execution_count": 33,
   "id": "d2568e4d",
   "metadata": {},
   "outputs": [
    {
     "data": {
      "text/plain": [
       "['Social Media DL (Bytes)',\n",
       " 'Social Media UL (Bytes)',\n",
       " 'Google DL (Bytes)',\n",
       " 'Google UL (Bytes)',\n",
       " 'Email DL (Bytes)',\n",
       " 'Email UL (Bytes)',\n",
       " 'Youtube DL (Bytes)',\n",
       " 'Youtube UL (Bytes)',\n",
       " 'Netflix DL (Bytes)',\n",
       " 'Netflix UL (Bytes)',\n",
       " 'Gaming DL (Bytes)',\n",
       " 'Gaming UL (Bytes)',\n",
       " 'Other DL (Bytes)',\n",
       " 'Other UL (Bytes)',\n",
       " 'Total UL (Bytes)',\n",
       " 'Total DL (Bytes)']"
      ]
     },
     "execution_count": 33,
     "metadata": {},
     "output_type": "execute_result"
    }
   ],
   "source": [
    "df.iloc[:,39:55].columns.to_list()"
   ]
  },
  {
   "cell_type": "code",
   "execution_count": null,
   "id": "bbd83306",
   "metadata": {},
   "outputs": [],
   "source": [
    "df.dropna()"
   ]
  },
  {
   "cell_type": "code",
   "execution_count": null,
   "id": "fb3a9363",
   "metadata": {},
   "outputs": [],
   "source": [
    "np.sum()"
   ]
  }
 ],
 "metadata": {
  "kernelspec": {
   "display_name": "Python 3",
   "language": "python",
   "name": "python3"
  },
  "language_info": {
   "codemirror_mode": {
    "name": "ipython",
    "version": 3
   },
   "file_extension": ".py",
   "mimetype": "text/x-python",
   "name": "python",
   "nbconvert_exporter": "python",
   "pygments_lexer": "ipython3",
   "version": "3.8.8"
  }
 },
 "nbformat": 4,
 "nbformat_minor": 5
}
