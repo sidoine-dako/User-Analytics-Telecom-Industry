{
 "cells": [
  {
   "cell_type": "markdown",
   "id": "7e4454a1",
   "metadata": {},
   "source": [
    "# TASK 1: User Overview analysis"
   ]
  },
  {
   "cell_type": "markdown",
   "id": "08cd261d",
   "metadata": {},
   "source": [
    "## Sub-tasks"
   ]
  },
  {
   "cell_type": "markdown",
   "id": "f6481ebd",
   "metadata": {},
   "source": [
    ">## Identifying the top 10 handsets used by the customers "
   ]
  }
 ],
 "metadata": {
  "kernelspec": {
   "display_name": "Python 3",
   "language": "python",
   "name": "python3"
  },
  "language_info": {
   "codemirror_mode": {
    "name": "ipython",
    "version": 3
   },
   "file_extension": ".py",
   "mimetype": "text/x-python",
   "name": "python",
   "nbconvert_exporter": "python",
   "pygments_lexer": "ipython3",
   "version": "3.8.8"
  }
 },
 "nbformat": 4,
 "nbformat_minor": 5
}
