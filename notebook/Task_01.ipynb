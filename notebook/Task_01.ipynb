{
 "cells": [
  {
   "cell_type": "markdown",
   "id": "125c616e",
   "metadata": {},
   "source": [
    "# TASK 1: User Overview analysis"
   ]
  },
  {
   "cell_type": "code",
   "execution_count": 1,
   "id": "6496ca87",
   "metadata": {},
   "outputs": [],
   "source": [
    "# Import the libraries\n",
    "import pandas as pd\n",
    "import numpy as np\n",
    "import matplotlib.pyplot as plt\n",
    "import seaborn as sns"
   ]
  },
  {
   "cell_type": "code",
   "execution_count": 2,
   "id": "f31cda43",
   "metadata": {},
   "outputs": [],
   "source": [
    "import sys\n",
    "sys.path.append('../scripts')\n",
    "from Clean_data import clean_data"
   ]
  },
  {
   "cell_type": "code",
   "execution_count": 3,
   "id": "7088b4cc",
   "metadata": {},
   "outputs": [
    {
     "name": "stdout",
     "output_type": "stream",
     "text": [
      "<class 'pandas.core.frame.DataFrame'>\n",
      "RangeIndex: 150001 entries, 0 to 150000\n",
      "Data columns (total 55 columns):\n",
      " #   Column                                    Non-Null Count   Dtype  \n",
      "---  ------                                    --------------   -----  \n",
      " 0   Bearer Id                                 149010 non-null  float64\n",
      " 1   Start                                     150000 non-null  object \n",
      " 2   Start ms                                  150000 non-null  float64\n",
      " 3   End                                       150000 non-null  object \n",
      " 4   End ms                                    150000 non-null  float64\n",
      " 5   Dur. (ms)                                 150000 non-null  float64\n",
      " 6   IMSI                                      149431 non-null  float64\n",
      " 7   MSISDN/Number                             148935 non-null  float64\n",
      " 8   IMEI                                      149429 non-null  float64\n",
      " 9   Last Location Name                        148848 non-null  object \n",
      " 10  Avg RTT DL (ms)                           122172 non-null  float64\n",
      " 11  Avg RTT UL (ms)                           122189 non-null  float64\n",
      " 12  Avg Bearer TP DL (kbps)                   150000 non-null  float64\n",
      " 13  Avg Bearer TP UL (kbps)                   150000 non-null  float64\n",
      " 14  TCP DL Retrans. Vol (Bytes)               61855 non-null   float64\n",
      " 15  TCP UL Retrans. Vol (Bytes)               53352 non-null   float64\n",
      " 16  DL TP < 50 Kbps (%)                       149247 non-null  float64\n",
      " 17  50 Kbps < DL TP < 250 Kbps (%)            149247 non-null  float64\n",
      " 18  250 Kbps < DL TP < 1 Mbps (%)             149247 non-null  float64\n",
      " 19  DL TP > 1 Mbps (%)                        149247 non-null  float64\n",
      " 20  UL TP < 10 Kbps (%)                       149209 non-null  float64\n",
      " 21  10 Kbps < UL TP < 50 Kbps (%)             149209 non-null  float64\n",
      " 22  50 Kbps < UL TP < 300 Kbps (%)            149209 non-null  float64\n",
      " 23  UL TP > 300 Kbps (%)                      149209 non-null  float64\n",
      " 24  HTTP DL (Bytes)                           68527 non-null   float64\n",
      " 25  HTTP UL (Bytes)                           68191 non-null   float64\n",
      " 26  Activity Duration DL (ms)                 150000 non-null  float64\n",
      " 27  Activity Duration UL (ms)                 150000 non-null  float64\n",
      " 28  Dur. (ms).1                               150000 non-null  float64\n",
      " 29  Handset Manufacturer                      149429 non-null  object \n",
      " 30  Handset Type                              149429 non-null  object \n",
      " 31  Nb of sec with 125000B < Vol DL           52463 non-null   float64\n",
      " 32  Nb of sec with 1250B < Vol UL < 6250B     57107 non-null   float64\n",
      " 33  Nb of sec with 31250B < Vol DL < 125000B  56415 non-null   float64\n",
      " 34  Nb of sec with 37500B < Vol UL            19747 non-null   float64\n",
      " 35  Nb of sec with 6250B < Vol DL < 31250B    61684 non-null   float64\n",
      " 36  Nb of sec with 6250B < Vol UL < 37500B    38158 non-null   float64\n",
      " 37  Nb of sec with Vol DL < 6250B             149246 non-null  float64\n",
      " 38  Nb of sec with Vol UL < 1250B             149208 non-null  float64\n",
      " 39  Social Media DL (Bytes)                   150001 non-null  float64\n",
      " 40  Social Media UL (Bytes)                   150001 non-null  float64\n",
      " 41  Google DL (Bytes)                         150001 non-null  float64\n",
      " 42  Google UL (Bytes)                         150001 non-null  float64\n",
      " 43  Email DL (Bytes)                          150001 non-null  float64\n",
      " 44  Email UL (Bytes)                          150001 non-null  float64\n",
      " 45  Youtube DL (Bytes)                        150001 non-null  float64\n",
      " 46  Youtube UL (Bytes)                        150001 non-null  float64\n",
      " 47  Netflix DL (Bytes)                        150001 non-null  float64\n",
      " 48  Netflix UL (Bytes)                        150001 non-null  float64\n",
      " 49  Gaming DL (Bytes)                         150001 non-null  float64\n",
      " 50  Gaming UL (Bytes)                         150001 non-null  float64\n",
      " 51  Other DL (Bytes)                          150001 non-null  float64\n",
      " 52  Other UL (Bytes)                          150001 non-null  float64\n",
      " 53  Total UL (Bytes)                          150000 non-null  float64\n",
      " 54  Total DL (Bytes)                          150000 non-null  float64\n",
      "dtypes: float64(50), object(5)\n",
      "memory usage: 62.9+ MB\n"
     ]
    }
   ],
   "source": [
    "# Import the dataset\n",
    "df = pd.read_csv(\"../data/Week1_challenge_data_source(CSV).csv\")\n",
    "df.info()"
   ]
  },
  {
   "cell_type": "markdown",
   "id": "3e1e614d",
   "metadata": {},
   "source": [
    "## Sub-tasks"
   ]
  },
  {
   "cell_type": "markdown",
   "id": "f12d1289",
   "metadata": {},
   "source": [
    ">## Identifying the top 10 handsets used by the customers </br>"
   ]
  },
  {
   "cell_type": "markdown",
   "id": "cff732cf",
   "metadata": {},
   "source": [
    "The handsets type of the customers are stored in the column named `Handset Type`. But before extracting the information for this column, we should identify each unique user/customer. As a matter of fact, a customer can be identified by either his/her IMSI, MSISDN/number or IMEI."
   ]
  },
  {
   "cell_type": "code",
   "execution_count": 4,
   "id": "17097588",
   "metadata": {},
   "outputs": [
    {
     "data": {
      "text/plain": [
       "MSISDN/Number    1066\n",
       "IMEI              572\n",
       "Handset Type      572\n",
       "IMSI              570\n",
       "dtype: int64"
      ]
     },
     "execution_count": 4,
     "metadata": {},
     "output_type": "execute_result"
    }
   ],
   "source": [
    "# Search the column that have the less number of missing values\n",
    "IdVariable = clean_data(df[['IMSI','MSISDN/Number', 'IMEI','Handset Type']])\n",
    "missingCol,_,_ = IdVariable.missing_values(verbose=False)\n",
    "missingCol"
   ]
  },
  {
   "cell_type": "markdown",
   "id": "cbe912e8",
   "metadata": {},
   "source": [
    "Thus one can choose to use the `IMSI` to identify each customer because we get more information using this field instead of `IMEI` or `MSISDN/Number`. Nethertheless, one can also choose to use the `IMEI`. Since we're looking for the handset type, we can just focus on the **IMEI** because it's an unique number which identify a device on a mobile network. Furthermore, without the IMEI, we can't identify the handset type - this is the reason why we get the same number of missing values for those two columns. Even if, we get less missing values for IMSI, this caracteristics does not ensure that we'll get the maximum of information relative to the handset type."
   ]
  },
  {
   "cell_type": "code",
   "execution_count": 5,
   "id": "5a033df0",
   "metadata": {},
   "outputs": [
    {
     "data": {
      "text/plain": [
       "Huawei B528S-23A                10638\n",
       "Apple iPhone 6S (A1688)          6765\n",
       "undefined                        6716\n",
       "Apple iPhone 6 (A1586)           6271\n",
       "Apple iPhone 7 (A1778)           4721\n",
       "Apple iPhone Se (A1723)          3764\n",
       "Apple iPhone 8 (A1905)           3550\n",
       "Samsung Galaxy S8 (Sm-G950F)     3275\n",
       "Apple iPhone Xr (A2105)          3077\n",
       "Samsung Galaxy J5 (Sm-J530)      2760\n",
       "Name: Handset Type, dtype: int64"
      ]
     },
     "execution_count": 5,
     "metadata": {},
     "output_type": "execute_result"
    }
   ],
   "source": [
    "# Extract the unique customer from the table\n",
    "UniqueUser = df.loc[:,['IMEI','Handset Manufacturer','Handset Type']].dropna(how=\"all\")\n",
    "# Drop the duplicates\n",
    "UniqueUser = UniqueUser.drop_duplicates()\n",
    "# Count the number of each handset type and identify the top 10\n",
    "UniqueUser.loc[:,'Handset Type'].value_counts()[:10]"
   ]
  },
  {
   "cell_type": "code",
   "execution_count": 6,
   "id": "1b92c29c",
   "metadata": {},
   "outputs": [
    {
     "data": {
      "text/plain": [
       "Huawei B528S-23A                10638\n",
       "Apple iPhone 6S (A1688)          6765\n",
       "Apple iPhone 6 (A1586)           6271\n",
       "Apple iPhone 7 (A1778)           4721\n",
       "Apple iPhone Se (A1723)          3764\n",
       "Apple iPhone 8 (A1905)           3550\n",
       "Samsung Galaxy S8 (Sm-G950F)     3275\n",
       "Apple iPhone Xr (A2105)          3077\n",
       "Samsung Galaxy J5 (Sm-J530)      2760\n",
       "Samsung Galaxy A5 Sm-A520F       2721\n",
       "Name: Handset Type, dtype: int64"
      ]
     },
     "execution_count": 6,
     "metadata": {},
     "output_type": "execute_result"
    }
   ],
   "source": [
    "# Count the number of each handset type and identify the top 10 (without undefined handset type)\n",
    "UniqueUser.query(\"`Handset Type`!='undefined'\").loc[:,'Handset Type'].value_counts()[:10]"
   ]
  },
  {
   "cell_type": "markdown",
   "id": "5832927c",
   "metadata": {},
   "source": [
    ">## Identify the three top handset manufacturer"
   ]
  },
  {
   "cell_type": "code",
   "execution_count": 7,
   "id": "8402cd1d",
   "metadata": {},
   "outputs": [],
   "source": [
    "def topNManufacturer(df,topn=3):\n",
    "    toNMan = df.loc[:,'Handset Manufacturer'].value_counts()[:topn]\n",
    "    return toNMan"
   ]
  },
  {
   "cell_type": "code",
   "execution_count": 8,
   "id": "4a310481",
   "metadata": {},
   "outputs": [
    {
     "data": {
      "text/plain": [
       "Apple      42687\n",
       "Samsung    30981\n",
       "Huawei     21743\n",
       "Name: Handset Manufacturer, dtype: int64"
      ]
     },
     "execution_count": 8,
     "metadata": {},
     "output_type": "execute_result"
    }
   ],
   "source": [
    "# Identify the top 3 manufacturer\n",
    "topNManufacturer(UniqueUser,topn=3)"
   ]
  },
  {
   "cell_type": "markdown",
   "id": "e20c11d8",
   "metadata": {},
   "source": [
    ">## Identify the top 5 handsets per top 3 handset manufacturer"
   ]
  },
  {
   "cell_type": "code",
   "execution_count": 9,
   "id": "27d0e9ef",
   "metadata": {},
   "outputs": [],
   "source": [
    "# Function to extract the top n type of handset for the top m manufacturer\n",
    "def topTypeManufact(df=UniqueUser,nmanufact=3,ntype=5):\n",
    "    topNManufact = df.loc[:,'Handset Manufacturer'].value_counts()[:nmanufact]\n",
    "    res = pd.DataFrame(columns=['Manufacturer','Type','Count'])\n",
    "    for manufacturer in topNManufact.index:\n",
    "        temp = df.loc[UniqueUser['Handset Manufacturer']==manufacturer,'Handset Type'].value_counts()[:ntype]\n",
    "        temp = pd.DataFrame({'Manufacturer':[manufacturer]*ntype,'Type':temp.index,'Count':temp.to_list()})\n",
    "        res = pd.concat([res,temp])\n",
    "    return res.reset_index(drop=True)"
   ]
  },
  {
   "cell_type": "code",
   "execution_count": 10,
   "id": "b7f9723b",
   "metadata": {},
   "outputs": [
    {
     "data": {
      "text/html": [
       "<div>\n",
       "<style scoped>\n",
       "    .dataframe tbody tr th:only-of-type {\n",
       "        vertical-align: middle;\n",
       "    }\n",
       "\n",
       "    .dataframe tbody tr th {\n",
       "        vertical-align: top;\n",
       "    }\n",
       "\n",
       "    .dataframe thead th {\n",
       "        text-align: right;\n",
       "    }\n",
       "</style>\n",
       "<table border=\"1\" class=\"dataframe\">\n",
       "  <thead>\n",
       "    <tr style=\"text-align: right;\">\n",
       "      <th></th>\n",
       "      <th>Manufacturer</th>\n",
       "      <th>Type</th>\n",
       "      <th>Count</th>\n",
       "    </tr>\n",
       "  </thead>\n",
       "  <tbody>\n",
       "    <tr>\n",
       "      <th>0</th>\n",
       "      <td>Apple</td>\n",
       "      <td>Apple iPhone 6S (A1688)</td>\n",
       "      <td>6765</td>\n",
       "    </tr>\n",
       "    <tr>\n",
       "      <th>1</th>\n",
       "      <td>Apple</td>\n",
       "      <td>Apple iPhone 6 (A1586)</td>\n",
       "      <td>6271</td>\n",
       "    </tr>\n",
       "    <tr>\n",
       "      <th>2</th>\n",
       "      <td>Apple</td>\n",
       "      <td>Apple iPhone 7 (A1778)</td>\n",
       "      <td>4721</td>\n",
       "    </tr>\n",
       "    <tr>\n",
       "      <th>3</th>\n",
       "      <td>Apple</td>\n",
       "      <td>Apple iPhone Se (A1723)</td>\n",
       "      <td>3764</td>\n",
       "    </tr>\n",
       "    <tr>\n",
       "      <th>4</th>\n",
       "      <td>Apple</td>\n",
       "      <td>Apple iPhone 8 (A1905)</td>\n",
       "      <td>3550</td>\n",
       "    </tr>\n",
       "    <tr>\n",
       "      <th>5</th>\n",
       "      <td>Samsung</td>\n",
       "      <td>Samsung Galaxy S8 (Sm-G950F)</td>\n",
       "      <td>3275</td>\n",
       "    </tr>\n",
       "    <tr>\n",
       "      <th>6</th>\n",
       "      <td>Samsung</td>\n",
       "      <td>Samsung Galaxy J5 (Sm-J530)</td>\n",
       "      <td>2760</td>\n",
       "    </tr>\n",
       "    <tr>\n",
       "      <th>7</th>\n",
       "      <td>Samsung</td>\n",
       "      <td>Samsung Galaxy A5 Sm-A520F</td>\n",
       "      <td>2721</td>\n",
       "    </tr>\n",
       "    <tr>\n",
       "      <th>8</th>\n",
       "      <td>Samsung</td>\n",
       "      <td>Samsung Galaxy J3 (Sm-J330)</td>\n",
       "      <td>2606</td>\n",
       "    </tr>\n",
       "    <tr>\n",
       "      <th>9</th>\n",
       "      <td>Samsung</td>\n",
       "      <td>Samsung Galaxy S7 (Sm-G930X)</td>\n",
       "      <td>2310</td>\n",
       "    </tr>\n",
       "    <tr>\n",
       "      <th>10</th>\n",
       "      <td>Huawei</td>\n",
       "      <td>Huawei B528S-23A</td>\n",
       "      <td>10638</td>\n",
       "    </tr>\n",
       "    <tr>\n",
       "      <th>11</th>\n",
       "      <td>Huawei</td>\n",
       "      <td>Huawei P20 Lite Huawei Nova 3E</td>\n",
       "      <td>1534</td>\n",
       "    </tr>\n",
       "    <tr>\n",
       "      <th>12</th>\n",
       "      <td>Huawei</td>\n",
       "      <td>Huawei E5180</td>\n",
       "      <td>1185</td>\n",
       "    </tr>\n",
       "    <tr>\n",
       "      <th>13</th>\n",
       "      <td>Huawei</td>\n",
       "      <td>Huawei P20</td>\n",
       "      <td>1110</td>\n",
       "    </tr>\n",
       "    <tr>\n",
       "      <th>14</th>\n",
       "      <td>Huawei</td>\n",
       "      <td>Huawei Y6 2018</td>\n",
       "      <td>757</td>\n",
       "    </tr>\n",
       "  </tbody>\n",
       "</table>\n",
       "</div>"
      ],
      "text/plain": [
       "   Manufacturer                            Type  Count\n",
       "0         Apple         Apple iPhone 6S (A1688)   6765\n",
       "1         Apple          Apple iPhone 6 (A1586)   6271\n",
       "2         Apple          Apple iPhone 7 (A1778)   4721\n",
       "3         Apple         Apple iPhone Se (A1723)   3764\n",
       "4         Apple          Apple iPhone 8 (A1905)   3550\n",
       "5       Samsung    Samsung Galaxy S8 (Sm-G950F)   3275\n",
       "6       Samsung     Samsung Galaxy J5 (Sm-J530)   2760\n",
       "7       Samsung      Samsung Galaxy A5 Sm-A520F   2721\n",
       "8       Samsung     Samsung Galaxy J3 (Sm-J330)   2606\n",
       "9       Samsung    Samsung Galaxy S7 (Sm-G930X)   2310\n",
       "10       Huawei                Huawei B528S-23A  10638\n",
       "11       Huawei  Huawei P20 Lite Huawei Nova 3E   1534\n",
       "12       Huawei                    Huawei E5180   1185\n",
       "13       Huawei                      Huawei P20   1110\n",
       "14       Huawei                  Huawei Y6 2018    757"
      ]
     },
     "execution_count": 10,
     "metadata": {},
     "output_type": "execute_result"
    }
   ],
   "source": [
    "# Identify the top 5 handsets per top 3 handset manufacturer\n",
    "topTypeManufact(df=UniqueUser,nmanufact=3,ntype=5)"
   ]
  },
  {
   "cell_type": "markdown",
   "id": "929d75cb",
   "metadata": {},
   "source": [
    ">## Task 1.1: Get an overview of the users’ behavior on those applications"
   ]
  }
 ],
 "metadata": {
  "kernelspec": {
   "display_name": "Python 3",
   "language": "python",
   "name": "python3"
  },
  "language_info": {
   "codemirror_mode": {
    "name": "ipython",
    "version": 3
   },
   "file_extension": ".py",
   "mimetype": "text/x-python",
   "name": "python",
   "nbconvert_exporter": "python",
   "pygments_lexer": "ipython3",
   "version": "3.8.8"
  }
 },
 "nbformat": 4,
 "nbformat_minor": 5
}
