{
 "cells": [
  {
   "cell_type": "markdown",
   "id": "ba2ba56c",
   "metadata": {},
   "source": [
    "# DATA PRE-PROCESSING\n",
    "This notebook aims to perform the data-preprocessing step and to save the cleaned data in a CSV file."
   ]
  },
  {
   "cell_type": "code",
   "execution_count": 1,
   "id": "2291cb08",
   "metadata": {},
   "outputs": [],
   "source": [
    "# Import the libraries\n",
    "import pandas as pd\n",
    "import numpy as np\n",
    "import matplotlib.pyplot as plt\n",
    "import seaborn as sns"
   ]
  },
  {
   "cell_type": "code",
   "execution_count": 2,
   "id": "b140e399",
   "metadata": {},
   "outputs": [],
   "source": [
    "# Import the class to clean the data\n",
    "import sys\n",
    "sys.path.append('../scripts')\n",
    "from Clean_data import clean_data"
   ]
  },
  {
   "cell_type": "code",
   "execution_count": 3,
   "id": "be9d108a",
   "metadata": {},
   "outputs": [
    {
     "name": "stdout",
     "output_type": "stream",
     "text": [
      "<class 'pandas.core.frame.DataFrame'>\n",
      "RangeIndex: 150001 entries, 0 to 150000\n",
      "Data columns (total 55 columns):\n",
      " #   Column                                    Non-Null Count   Dtype  \n",
      "---  ------                                    --------------   -----  \n",
      " 0   Bearer Id                                 149010 non-null  float64\n",
      " 1   Start                                     150000 non-null  object \n",
      " 2   Start ms                                  150000 non-null  float64\n",
      " 3   End                                       150000 non-null  object \n",
      " 4   End ms                                    150000 non-null  float64\n",
      " 5   Dur. (ms)                                 150000 non-null  float64\n",
      " 6   IMSI                                      149431 non-null  float64\n",
      " 7   MSISDN/Number                             148935 non-null  float64\n",
      " 8   IMEI                                      149429 non-null  float64\n",
      " 9   Last Location Name                        148848 non-null  object \n",
      " 10  Avg RTT DL (ms)                           122172 non-null  float64\n",
      " 11  Avg RTT UL (ms)                           122189 non-null  float64\n",
      " 12  Avg Bearer TP DL (kbps)                   150000 non-null  float64\n",
      " 13  Avg Bearer TP UL (kbps)                   150000 non-null  float64\n",
      " 14  TCP DL Retrans. Vol (Bytes)               61855 non-null   float64\n",
      " 15  TCP UL Retrans. Vol (Bytes)               53352 non-null   float64\n",
      " 16  DL TP < 50 Kbps (%)                       149247 non-null  float64\n",
      " 17  50 Kbps < DL TP < 250 Kbps (%)            149247 non-null  float64\n",
      " 18  250 Kbps < DL TP < 1 Mbps (%)             149247 non-null  float64\n",
      " 19  DL TP > 1 Mbps (%)                        149247 non-null  float64\n",
      " 20  UL TP < 10 Kbps (%)                       149209 non-null  float64\n",
      " 21  10 Kbps < UL TP < 50 Kbps (%)             149209 non-null  float64\n",
      " 22  50 Kbps < UL TP < 300 Kbps (%)            149209 non-null  float64\n",
      " 23  UL TP > 300 Kbps (%)                      149209 non-null  float64\n",
      " 24  HTTP DL (Bytes)                           68527 non-null   float64\n",
      " 25  HTTP UL (Bytes)                           68191 non-null   float64\n",
      " 26  Activity Duration DL (ms)                 150000 non-null  float64\n",
      " 27  Activity Duration UL (ms)                 150000 non-null  float64\n",
      " 28  Dur. (ms).1                               150000 non-null  float64\n",
      " 29  Handset Manufacturer                      149429 non-null  object \n",
      " 30  Handset Type                              149429 non-null  object \n",
      " 31  Nb of sec with 125000B < Vol DL           52463 non-null   float64\n",
      " 32  Nb of sec with 1250B < Vol UL < 6250B     57107 non-null   float64\n",
      " 33  Nb of sec with 31250B < Vol DL < 125000B  56415 non-null   float64\n",
      " 34  Nb of sec with 37500B < Vol UL            19747 non-null   float64\n",
      " 35  Nb of sec with 6250B < Vol DL < 31250B    61684 non-null   float64\n",
      " 36  Nb of sec with 6250B < Vol UL < 37500B    38158 non-null   float64\n",
      " 37  Nb of sec with Vol DL < 6250B             149246 non-null  float64\n",
      " 38  Nb of sec with Vol UL < 1250B             149208 non-null  float64\n",
      " 39  Social Media DL (Bytes)                   150001 non-null  float64\n",
      " 40  Social Media UL (Bytes)                   150001 non-null  float64\n",
      " 41  Google DL (Bytes)                         150001 non-null  float64\n",
      " 42  Google UL (Bytes)                         150001 non-null  float64\n",
      " 43  Email DL (Bytes)                          150001 non-null  float64\n",
      " 44  Email UL (Bytes)                          150001 non-null  float64\n",
      " 45  Youtube DL (Bytes)                        150001 non-null  float64\n",
      " 46  Youtube UL (Bytes)                        150001 non-null  float64\n",
      " 47  Netflix DL (Bytes)                        150001 non-null  float64\n",
      " 48  Netflix UL (Bytes)                        150001 non-null  float64\n",
      " 49  Gaming DL (Bytes)                         150001 non-null  float64\n",
      " 50  Gaming UL (Bytes)                         150001 non-null  float64\n",
      " 51  Other DL (Bytes)                          150001 non-null  float64\n",
      " 52  Other UL (Bytes)                          150001 non-null  float64\n",
      " 53  Total UL (Bytes)                          150000 non-null  float64\n",
      " 54  Total DL (Bytes)                          150000 non-null  float64\n",
      "dtypes: float64(50), object(5)\n",
      "memory usage: 62.9+ MB\n"
     ]
    }
   ],
   "source": [
    "# Import the data set\n",
    "df = pd.read_csv(\"../data/Week1_challenge_data_source(CSV).csv\")\n",
    "df.info()"
   ]
  },
  {
   "cell_type": "code",
   "execution_count": 4,
   "id": "2bf44e35",
   "metadata": {},
   "outputs": [
    {
     "name": "stdout",
     "output_type": "stream",
     "text": [
      "The dataset has 150001 observations/rows and 55 columns.\n"
     ]
    }
   ],
   "source": [
    "print(f'The dataset has {df.shape[0]} observations/rows and {df.shape[1]} columns.')"
   ]
  },
  {
   "cell_type": "code",
   "execution_count": 5,
   "id": "d0a0d7c8",
   "metadata": {},
   "outputs": [],
   "source": [
    "DataClass = clean_data(df)"
   ]
  },
  {
   "cell_type": "markdown",
   "id": "88a81ec4",
   "metadata": {},
   "source": [
    "## Missing values\n",
    "Let's check the miss values in our data set."
   ]
  },
  {
   "cell_type": "code",
   "execution_count": 6,
   "id": "13ee24df",
   "metadata": {},
   "outputs": [
    {
     "name": "stdout",
     "output_type": "stream",
     "text": [
      "The dataset contains 1031392 missing values in total\n",
      "The missing values represent 12.5% of the values contained in the set\n",
      "These values are distributed as follows:\n",
      "Nb of sec with 37500B < Vol UL              130254\n",
      "Nb of sec with 6250B < Vol UL < 37500B      111843\n",
      "Nb of sec with 125000B < Vol DL              97538\n",
      "TCP UL Retrans. Vol (Bytes)                  96649\n",
      "Nb of sec with 31250B < Vol DL < 125000B     93586\n",
      "Nb of sec with 1250B < Vol UL < 6250B        92894\n",
      "Nb of sec with 6250B < Vol DL < 31250B       88317\n",
      "TCP DL Retrans. Vol (Bytes)                  88146\n",
      "HTTP UL (Bytes)                              81810\n",
      "HTTP DL (Bytes)                              81474\n",
      "Avg RTT DL (ms)                              27829\n",
      "Avg RTT UL (ms)                              27812\n",
      "Last Location Name                            1153\n",
      "MSISDN/Number                                 1066\n",
      "Bearer Id                                      991\n",
      "Nb of sec with Vol UL < 1250B                  793\n",
      "UL TP < 10 Kbps (%)                            792\n",
      "10 Kbps < UL TP < 50 Kbps (%)                  792\n",
      "50 Kbps < UL TP < 300 Kbps (%)                 792\n",
      "UL TP > 300 Kbps (%)                           792\n",
      "Nb of sec with Vol DL < 6250B                  755\n",
      "DL TP < 50 Kbps (%)                            754\n",
      "50 Kbps < DL TP < 250 Kbps (%)                 754\n",
      "250 Kbps < DL TP < 1 Mbps (%)                  754\n",
      "DL TP > 1 Mbps (%)                             754\n",
      "Handset Type                                   572\n",
      "IMEI                                           572\n",
      "Handset Manufacturer                           572\n",
      "IMSI                                           570\n",
      "Total UL (Bytes)                                 1\n",
      "Activity Duration UL (ms)                        1\n",
      "Dur. (ms).1                                      1\n",
      "End ms                                           1\n",
      "Start ms                                         1\n",
      "Start                                            1\n",
      "End                                              1\n",
      "Total DL (Bytes)                                 1\n",
      "Dur. (ms)                                        1\n",
      "Activity Duration DL (ms)                        1\n",
      "Avg Bearer TP UL (kbps)                          1\n",
      "Avg Bearer TP DL (kbps)                          1\n",
      "Netflix DL (Bytes)                               0\n",
      "Other UL (Bytes)                                 0\n",
      "Other DL (Bytes)                                 0\n",
      "Gaming UL (Bytes)                                0\n",
      "Gaming DL (Bytes)                                0\n",
      "Netflix UL (Bytes)                               0\n",
      "Youtube UL (Bytes)                               0\n",
      "Youtube DL (Bytes)                               0\n",
      "Email UL (Bytes)                                 0\n",
      "Google UL (Bytes)                                0\n",
      "Google DL (Bytes)                                0\n",
      "Social Media UL (Bytes)                          0\n",
      "Social Media DL (Bytes)                          0\n",
      "Email DL (Bytes)                                 0\n",
      "dtype: int64\n"
     ]
    }
   ],
   "source": [
    "missingCountCol, missingCountTot, missingPerc = DataClass.missing_values()"
   ]
  },
  {
   "cell_type": "markdown",
   "id": "59c87cd7",
   "metadata": {},
   "source": [
    "Before starting, one could easily notice that we only get the values related to the upload and download data per application. But we don't have for the total. So, one can just decide to remove it. But since we'have the information on the upload and download data, we'll keep it.</br>\n",
    "Let's explore to see if we're able to find any relationship between the data used per application and the total."
   ]
  },
  {
   "cell_type": "code",
   "execution_count": 18,
   "id": "94833d93",
   "metadata": {},
   "outputs": [
    {
     "data": {
      "text/plain": [
       "Bearer Id                                                NaN\n",
       "Start                                                    NaN\n",
       "Start ms                                                 NaN\n",
       "End                                                      NaN\n",
       "End ms                                                   NaN\n",
       "Dur. (ms)                                                NaN\n",
       "IMSI                                                     NaN\n",
       "MSISDN/Number                                            NaN\n",
       "IMEI                                                     NaN\n",
       "Last Location Name                                       NaN\n",
       "Avg RTT DL (ms)                                          NaN\n",
       "Avg RTT UL (ms)                                          NaN\n",
       "Avg Bearer TP DL (kbps)                                  NaN\n",
       "Avg Bearer TP UL (kbps)                                  NaN\n",
       "TCP DL Retrans. Vol (Bytes)                              NaN\n",
       "TCP UL Retrans. Vol (Bytes)                              NaN\n",
       "DL TP < 50 Kbps (%)                                      NaN\n",
       "50 Kbps < DL TP < 250 Kbps (%)                           NaN\n",
       "250 Kbps < DL TP < 1 Mbps (%)                            NaN\n",
       "DL TP > 1 Mbps (%)                                       NaN\n",
       "UL TP < 10 Kbps (%)                                      NaN\n",
       "10 Kbps < UL TP < 50 Kbps (%)                            NaN\n",
       "50 Kbps < UL TP < 300 Kbps (%)                           NaN\n",
       "UL TP > 300 Kbps (%)                                     NaN\n",
       "HTTP DL (Bytes)                                          NaN\n",
       "HTTP UL (Bytes)                                          NaN\n",
       "Activity Duration DL (ms)                                NaN\n",
       "Activity Duration UL (ms)                                NaN\n",
       "Dur. (ms).1                                              NaN\n",
       "Handset Manufacturer                                     NaN\n",
       "Handset Type                                             NaN\n",
       "Nb of sec with 125000B < Vol DL                          NaN\n",
       "Nb of sec with 1250B < Vol UL < 6250B                    NaN\n",
       "Nb of sec with 31250B < Vol DL < 125000B                 NaN\n",
       "Nb of sec with 37500B < Vol UL                           NaN\n",
       "Nb of sec with 6250B < Vol DL < 31250B                   NaN\n",
       "Nb of sec with 6250B < Vol UL < 37500B                   NaN\n",
       "Nb of sec with Vol DL < 6250B                            NaN\n",
       "Nb of sec with Vol UL < 1250B                            NaN\n",
       "Social Media DL (Bytes)                       1795321.773647\n",
       "Social Media UL (Bytes)                          32928.43438\n",
       "Google DL (Bytes)                             5750752.619287\n",
       "Google UL (Bytes)                             2056541.926287\n",
       "Email DL (Bytes)                               1791728.86802\n",
       "Email UL (Bytes)                                467373.44194\n",
       "Youtube DL (Bytes)                             11634072.5039\n",
       "Youtube UL (Bytes)                             11009410.1347\n",
       "Netflix DL (Bytes)                            11626851.71874\n",
       "Netflix UL (Bytes)                            11001754.81964\n",
       "Gaming DL (Bytes)                           422044702.595373\n",
       "Gaming UL (Bytes)                             8288398.110733\n",
       "Other DL (Bytes)                            421100544.194493\n",
       "Other UL (Bytes)                              8264799.424427\n",
       "Total UL (Bytes)                                         NaN\n",
       "Total DL (Bytes)                                         NaN\n",
       "Name: 150000, dtype: object"
      ]
     },
     "execution_count": 18,
     "metadata": {},
     "output_type": "execute_result"
    }
   ],
   "source": [
    "DataClass.df.iloc[-1,:]"
   ]
  },
  {
   "cell_type": "markdown",
   "id": "24522d63",
   "metadata": {},
   "source": [
    "Our data $12.47\\%$ of missing values. One could decide to impute the data but first of all let's dive inside the missing values to understand those missing values.\n",
    "* Firstly, since `IMSI`, `MSISDN/Number` and `IMEI` could be considered as unique identifier, it won't make any sense to impute them. Using an imputation method would generate the same identifier and this could lead to a bias in the analysis. \n",
    "* Secondly, we could not impute the missing values of the categorical variable as `Handset Manufacturer` and `Handset Type`\n",
    "* Thirdly, let's notice that wa have the same number of NA for `Duration ratio when Bearer Downlink` and also the same for `Duration ratio when Bearer Uplink`. This could lead us to look at the data contained in the columns `Avg Bearer TP UL (kbps)` and `Avg Bearer TP DL (kbps)`."
   ]
  },
  {
   "cell_type": "code",
   "execution_count": 15,
   "id": "c78cc981",
   "metadata": {},
   "outputs": [],
   "source": [
    "columnName = DataClass.df.columns.to_list()"
   ]
  },
  {
   "cell_type": "code",
   "execution_count": 48,
   "id": "91ee1d78",
   "metadata": {},
   "outputs": [
    {
     "name": "stdout",
     "output_type": "stream",
     "text": [
      "UL TP < 10 Kbps (%)               100.0\n",
      "10 Kbps < UL TP < 50 Kbps (%)       0.0\n",
      "50 Kbps < UL TP < 300 Kbps (%)      0.0\n",
      "UL TP > 300 Kbps (%)                0.0\n",
      "dtype: float64\n"
     ]
    },
    {
     "data": {
      "text/plain": [
       "UL TP < 10 Kbps (%)               791\n",
       "10 Kbps < UL TP < 50 Kbps (%)     791\n",
       "50 Kbps < UL TP < 300 Kbps (%)    791\n",
       "UL TP > 300 Kbps (%)              791\n",
       "dtype: int64"
      ]
     },
     "execution_count": 48,
     "metadata": {},
     "output_type": "execute_result"
    }
   ],
   "source": [
    "# Explore the relation between the duration ratio and the average bearer TP UL\n",
    "print(DataClass.df.loc[DataClass.df[\"Avg Bearer TP UL (kbps)\"]==0,columnName[20:24]].median())\n",
    "DataClass.df.loc[DataClass.df[\"Avg Bearer TP UL (kbps)\"]==0,columnName[20:24]].isnull().sum()"
   ]
  },
  {
   "cell_type": "code",
   "execution_count": 56,
   "id": "80d8fc9e",
   "metadata": {},
   "outputs": [
    {
     "data": {
      "text/plain": [
       "Bearer Id                                     0.026666\n",
       "Start ms                                      0.000968\n",
       "End ms                                       -0.001163\n",
       "Dur. (ms)                                     3.952609\n",
       "IMSI                                         41.045956\n",
       "MSISDN/Number                               332.155856\n",
       "IMEI                                          1.071470\n",
       "Avg RTT DL (ms)                              62.907828\n",
       "Avg RTT UL (ms)                              28.457415\n",
       "Avg Bearer TP DL (kbps)                       2.589437\n",
       "Avg Bearer TP UL (kbps)                       4.503413\n",
       "TCP DL Retrans. Vol (Bytes)                  15.951809\n",
       "TCP UL Retrans. Vol (Bytes)                  84.113393\n",
       "DL TP < 50 Kbps (%)                          -2.297803\n",
       "50 Kbps < DL TP < 250 Kbps (%)                3.271453\n",
       "250 Kbps < DL TP < 1 Mbps (%)                 4.566158\n",
       "DL TP > 1 Mbps (%)                            5.370351\n",
       "UL TP < 10 Kbps (%)                          -8.985016\n",
       "10 Kbps < UL TP < 50 Kbps (%)                10.943888\n",
       "50 Kbps < UL TP < 300 Kbps (%)               21.878495\n",
       "UL TP > 300 Kbps (%)                         36.174053\n",
       "HTTP DL (Bytes)                              38.944710\n",
       "HTTP UL (Bytes)                              32.474970\n",
       "Activity Duration DL (ms)                     5.872256\n",
       "Activity Duration UL (ms)                     7.382557\n",
       "Dur. (ms).1                                   3.952609\n",
       "Nb of sec with 125000B < Vol DL               6.592502\n",
       "Nb of sec with 1250B < Vol UL < 6250B        22.035745\n",
       "Nb of sec with 31250B < Vol DL < 125000B      6.610541\n",
       "Nb of sec with 37500B < Vol UL               21.560028\n",
       "Nb of sec with 6250B < Vol DL < 31250B        6.896050\n",
       "Nb of sec with 6250B < Vol UL < 37500B       19.642752\n",
       "Nb of sec with Vol DL < 6250B                 9.042166\n",
       "Nb of sec with Vol UL < 1250B                 7.495176\n",
       "Social Media DL (Bytes)                      -0.002136\n",
       "Social Media UL (Bytes)                      -0.000359\n",
       "Google DL (Bytes)                            -0.008092\n",
       "Google UL (Bytes)                             0.002216\n",
       "Email DL (Bytes)                             -0.002463\n",
       "Email UL (Bytes)                              0.007358\n",
       "Youtube DL (Bytes)                            0.000231\n",
       "Youtube UL (Bytes)                           -0.001142\n",
       "Netflix DL (Bytes)                           -0.002442\n",
       "Netflix UL (Bytes)                           -0.000113\n",
       "Gaming DL (Bytes)                            -0.003460\n",
       "Gaming UL (Bytes)                            -0.001840\n",
       "Other DL (Bytes)                              0.001400\n",
       "Other UL (Bytes)                              0.001392\n",
       "Total UL (Bytes)                             -0.002456\n",
       "Total DL (Bytes)                             -0.003153\n",
       "dtype: float64"
      ]
     },
     "execution_count": 56,
     "metadata": {},
     "output_type": "execute_result"
    }
   ],
   "source": [
    "DataClass.df.skew()"
   ]
  },
  {
   "cell_type": "code",
   "execution_count": 52,
   "id": "1c15b8ad",
   "metadata": {},
   "outputs": [
    {
     "name": "stdout",
     "output_type": "stream",
     "text": [
      "DL TP < 50 Kbps (%)               100.0\n",
      "50 Kbps < DL TP < 250 Kbps (%)      0.0\n",
      "250 Kbps < DL TP < 1 Mbps (%)       0.0\n",
      "DL TP > 1 Mbps (%)                  0.0\n",
      "dtype: float64\n"
     ]
    },
    {
     "data": {
      "text/plain": [
       "DL TP < 50 Kbps (%)               173\n",
       "50 Kbps < DL TP < 250 Kbps (%)    173\n",
       "250 Kbps < DL TP < 1 Mbps (%)     173\n",
       "DL TP > 1 Mbps (%)                173\n",
       "dtype: int64"
      ]
     },
     "execution_count": 52,
     "metadata": {},
     "output_type": "execute_result"
    }
   ],
   "source": [
    "# Explore the relation between the duration ratio and the average bearer TP DL\n",
    "print(DataClass.df.loc[:,columnName[16:20]].median())\n",
    "DataClass.df.loc[DataClass.df[\"Avg Bearer TP UL (kbps)\"]==0,columnName[16:20]].isnull().sum()"
   ]
  },
  {
   "cell_type": "markdown",
   "id": "6aa044f1",
   "metadata": {},
   "source": [
    "We notice that, we got the NA for the duration ratio where the `Avg Bearer TP UL (kbps)` and `Avg Bearer TP UL (kbps)` are equal to 0 in each case. And it's obvious. If the average bearer is equal to 0, we cannot have a duration ratio.</br>\n",
    "Let's now fill those missing values with the respective values. In the case of `Avg Bearer TP UL (kbps)`, only `UL TP < 10 Kbps (%)` will be filled with $100$ and the remaining columns with 0."
   ]
  },
  {
   "cell_type": "code",
   "execution_count": 40,
   "id": "db32a996",
   "metadata": {},
   "outputs": [
    {
     "data": {
      "text/plain": [
       "dict_keys(['UL TP < 10 Kbps (%)', '10 Kbps < UL TP < 50 Kbps (%)', '50 Kbps < UL TP < 300 Kbps (%)', 'UL TP > 300 Kbps (%)'])"
      ]
     },
     "execution_count": 40,
     "metadata": {},
     "output_type": "execute_result"
    }
   ],
   "source": [
    "useToFill = {'UL TP < 10 Kbps (%)':100,'10 Kbps < UL TP < 50 Kbps (%)':0,\n",
    "                 '50 Kbps < UL TP < 300 Kbps (%)':0,'UL TP > 300 Kbps (%)':0}"
   ]
  },
  {
   "cell_type": "code",
   "execution_count": 49,
   "id": "6ad6c874",
   "metadata": {},
   "outputs": [
    {
     "data": {
      "text/plain": [
       "UL TP < 10 Kbps (%)               791\n",
       "10 Kbps < UL TP < 50 Kbps (%)     791\n",
       "50 Kbps < UL TP < 300 Kbps (%)    791\n",
       "UL TP > 300 Kbps (%)              791\n",
       "dtype: int64"
      ]
     },
     "execution_count": 49,
     "metadata": {},
     "output_type": "execute_result"
    }
   ],
   "source": [
    "test = DataClass.df.loc[DataClass.df[\"Avg Bearer TP UL (kbps)\"]==0,columnName[20:24]]\n",
    "#test = test.fillna(test)\n",
    "test.isnull().sum()"
   ]
  },
  {
   "cell_type": "code",
   "execution_count": 50,
   "id": "5763c53a",
   "metadata": {},
   "outputs": [
    {
     "data": {
      "text/plain": [
       "UL TP < 10 Kbps (%)               100.0\n",
       "10 Kbps < UL TP < 50 Kbps (%)       0.0\n",
       "50 Kbps < UL TP < 300 Kbps (%)      0.0\n",
       "UL TP > 300 Kbps (%)                0.0\n",
       "dtype: float64"
      ]
     },
     "execution_count": 50,
     "metadata": {},
     "output_type": "execute_result"
    }
   ],
   "source": [
    "test.median()"
   ]
  }
 ],
 "metadata": {
  "kernelspec": {
   "display_name": "Python 3",
   "language": "python",
   "name": "python3"
  },
  "language_info": {
   "codemirror_mode": {
    "name": "ipython",
    "version": 3
   },
   "file_extension": ".py",
   "mimetype": "text/x-python",
   "name": "python",
   "nbconvert_exporter": "python",
   "pygments_lexer": "ipython3",
   "version": "3.8.8"
  }
 },
 "nbformat": 4,
 "nbformat_minor": 5
}
