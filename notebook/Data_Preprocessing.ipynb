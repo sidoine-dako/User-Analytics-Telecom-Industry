{
 "cells": [
  {
   "cell_type": "markdown",
   "id": "ba2ba56c",
   "metadata": {},
   "source": [
    "# DATA PRE-PROCESSING\n",
    "This notebook aims to perform the data-preprocessing step and to save the cleaned data in a CSV file."
   ]
  },
  {
   "cell_type": "code",
   "execution_count": 1,
   "id": "2291cb08",
   "metadata": {},
   "outputs": [],
   "source": [
    "# Import the libraries\n",
    "import pandas as pd\n",
    "import numpy as np\n",
    "import matplotlib.pyplot as plt\n",
    "import seaborn as sns"
   ]
  },
  {
   "cell_type": "code",
   "execution_count": 2,
   "id": "b140e399",
   "metadata": {},
   "outputs": [],
   "source": [
    "# Import the class to clean the data\n",
    "import sys\n",
    "sys.path.append('../scripts')\n",
    "from Clean_data import clean_data"
   ]
  },
  {
   "cell_type": "code",
   "execution_count": 3,
   "id": "be9d108a",
   "metadata": {},
   "outputs": [
    {
     "name": "stdout",
     "output_type": "stream",
     "text": [
      "<class 'pandas.core.frame.DataFrame'>\n",
      "RangeIndex: 150001 entries, 0 to 150000\n",
      "Data columns (total 55 columns):\n",
      " #   Column                                    Non-Null Count   Dtype  \n",
      "---  ------                                    --------------   -----  \n",
      " 0   Bearer Id                                 149010 non-null  float64\n",
      " 1   Start                                     150000 non-null  object \n",
      " 2   Start ms                                  150000 non-null  float64\n",
      " 3   End                                       150000 non-null  object \n",
      " 4   End ms                                    150000 non-null  float64\n",
      " 5   Dur. (ms)                                 150000 non-null  float64\n",
      " 6   IMSI                                      149431 non-null  float64\n",
      " 7   MSISDN/Number                             148935 non-null  float64\n",
      " 8   IMEI                                      149429 non-null  float64\n",
      " 9   Last Location Name                        148848 non-null  object \n",
      " 10  Avg RTT DL (ms)                           122172 non-null  float64\n",
      " 11  Avg RTT UL (ms)                           122189 non-null  float64\n",
      " 12  Avg Bearer TP DL (kbps)                   150000 non-null  float64\n",
      " 13  Avg Bearer TP UL (kbps)                   150000 non-null  float64\n",
      " 14  TCP DL Retrans. Vol (Bytes)               61855 non-null   float64\n",
      " 15  TCP UL Retrans. Vol (Bytes)               53352 non-null   float64\n",
      " 16  DL TP < 50 Kbps (%)                       149247 non-null  float64\n",
      " 17  50 Kbps < DL TP < 250 Kbps (%)            149247 non-null  float64\n",
      " 18  250 Kbps < DL TP < 1 Mbps (%)             149247 non-null  float64\n",
      " 19  DL TP > 1 Mbps (%)                        149247 non-null  float64\n",
      " 20  UL TP < 10 Kbps (%)                       149209 non-null  float64\n",
      " 21  10 Kbps < UL TP < 50 Kbps (%)             149209 non-null  float64\n",
      " 22  50 Kbps < UL TP < 300 Kbps (%)            149209 non-null  float64\n",
      " 23  UL TP > 300 Kbps (%)                      149209 non-null  float64\n",
      " 24  HTTP DL (Bytes)                           68527 non-null   float64\n",
      " 25  HTTP UL (Bytes)                           68191 non-null   float64\n",
      " 26  Activity Duration DL (ms)                 150000 non-null  float64\n",
      " 27  Activity Duration UL (ms)                 150000 non-null  float64\n",
      " 28  Dur. (ms).1                               150000 non-null  float64\n",
      " 29  Handset Manufacturer                      149429 non-null  object \n",
      " 30  Handset Type                              149429 non-null  object \n",
      " 31  Nb of sec with 125000B < Vol DL           52463 non-null   float64\n",
      " 32  Nb of sec with 1250B < Vol UL < 6250B     57107 non-null   float64\n",
      " 33  Nb of sec with 31250B < Vol DL < 125000B  56415 non-null   float64\n",
      " 34  Nb of sec with 37500B < Vol UL            19747 non-null   float64\n",
      " 35  Nb of sec with 6250B < Vol DL < 31250B    61684 non-null   float64\n",
      " 36  Nb of sec with 6250B < Vol UL < 37500B    38158 non-null   float64\n",
      " 37  Nb of sec with Vol DL < 6250B             149246 non-null  float64\n",
      " 38  Nb of sec with Vol UL < 1250B             149208 non-null  float64\n",
      " 39  Social Media DL (Bytes)                   150001 non-null  float64\n",
      " 40  Social Media UL (Bytes)                   150001 non-null  float64\n",
      " 41  Google DL (Bytes)                         150001 non-null  float64\n",
      " 42  Google UL (Bytes)                         150001 non-null  float64\n",
      " 43  Email DL (Bytes)                          150001 non-null  float64\n",
      " 44  Email UL (Bytes)                          150001 non-null  float64\n",
      " 45  Youtube DL (Bytes)                        150001 non-null  float64\n",
      " 46  Youtube UL (Bytes)                        150001 non-null  float64\n",
      " 47  Netflix DL (Bytes)                        150001 non-null  float64\n",
      " 48  Netflix UL (Bytes)                        150001 non-null  float64\n",
      " 49  Gaming DL (Bytes)                         150001 non-null  float64\n",
      " 50  Gaming UL (Bytes)                         150001 non-null  float64\n",
      " 51  Other DL (Bytes)                          150001 non-null  float64\n",
      " 52  Other UL (Bytes)                          150001 non-null  float64\n",
      " 53  Total UL (Bytes)                          150000 non-null  float64\n",
      " 54  Total DL (Bytes)                          150000 non-null  float64\n",
      "dtypes: float64(50), object(5)\n",
      "memory usage: 62.9+ MB\n"
     ]
    }
   ],
   "source": [
    "# Import the data set\n",
    "df = pd.read_csv(\"../data/Week1_challenge_data_source(CSV).csv\")\n",
    "df.info()"
   ]
  },
  {
   "cell_type": "code",
   "execution_count": 4,
   "id": "0d12ab68",
   "metadata": {},
   "outputs": [
    {
     "name": "stdout",
     "output_type": "stream",
     "text": [
      "<class 'pandas.core.frame.DataFrame'>\n",
      "RangeIndex: 150001 entries, 0 to 150000\n",
      "Data columns (total 55 columns):\n",
      " #   Column                                    Non-Null Count   Dtype  \n",
      "---  ------                                    --------------   -----  \n",
      " 0   Bearer Id                                 149010 non-null  float64\n",
      " 1   Start                                     150000 non-null  object \n",
      " 2   Start ms                                  150000 non-null  float64\n",
      " 3   End                                       150000 non-null  object \n",
      " 4   End ms                                    150000 non-null  float64\n",
      " 5   Dur. (ms)                                 150000 non-null  float64\n",
      " 6   IMSI                                      149431 non-null  float64\n",
      " 7   MSISDN/Number                             148935 non-null  float64\n",
      " 8   IMEI                                      149429 non-null  float64\n",
      " 9   Last Location Name                        148848 non-null  object \n",
      " 10  Avg RTT DL (ms)                           122172 non-null  float64\n",
      " 11  Avg RTT UL (ms)                           122189 non-null  float64\n",
      " 12  Avg Bearer TP DL (kbps)                   150000 non-null  float64\n",
      " 13  Avg Bearer TP UL (kbps)                   150000 non-null  float64\n",
      " 14  TCP DL Retrans. Vol (Bytes)               61855 non-null   float64\n",
      " 15  TCP UL Retrans. Vol (Bytes)               53352 non-null   float64\n",
      " 16  DL TP < 50 Kbps (%)                       149247 non-null  float64\n",
      " 17  50 Kbps < DL TP < 250 Kbps (%)            149247 non-null  float64\n",
      " 18  250 Kbps < DL TP < 1 Mbps (%)             149247 non-null  float64\n",
      " 19  DL TP > 1 Mbps (%)                        149247 non-null  float64\n",
      " 20  UL TP < 10 Kbps (%)                       149209 non-null  float64\n",
      " 21  10 Kbps < UL TP < 50 Kbps (%)             149209 non-null  float64\n",
      " 22  50 Kbps < UL TP < 300 Kbps (%)            149209 non-null  float64\n",
      " 23  UL TP > 300 Kbps (%)                      149209 non-null  float64\n",
      " 24  HTTP DL (Bytes)                           68527 non-null   float64\n",
      " 25  HTTP UL (Bytes)                           68191 non-null   float64\n",
      " 26  Activity Duration DL (ms)                 150000 non-null  float64\n",
      " 27  Activity Duration UL (ms)                 150000 non-null  float64\n",
      " 28  Dur. (ms).1                               150000 non-null  float64\n",
      " 29  Handset Manufacturer                      149429 non-null  object \n",
      " 30  Handset Type                              149429 non-null  object \n",
      " 31  Nb of sec with 125000B < Vol DL           52463 non-null   float64\n",
      " 32  Nb of sec with 1250B < Vol UL < 6250B     57107 non-null   float64\n",
      " 33  Nb of sec with 31250B < Vol DL < 125000B  56415 non-null   float64\n",
      " 34  Nb of sec with 37500B < Vol UL            19747 non-null   float64\n",
      " 35  Nb of sec with 6250B < Vol DL < 31250B    61684 non-null   float64\n",
      " 36  Nb of sec with 6250B < Vol UL < 37500B    38158 non-null   float64\n",
      " 37  Nb of sec with Vol DL < 6250B             149246 non-null  float64\n",
      " 38  Nb of sec with Vol UL < 1250B             149208 non-null  float64\n",
      " 39  Social Media DL (Bytes)                   150001 non-null  float64\n",
      " 40  Social Media UL (Bytes)                   150001 non-null  float64\n",
      " 41  Google DL (Bytes)                         150001 non-null  float64\n",
      " 42  Google UL (Bytes)                         150001 non-null  float64\n",
      " 43  Email DL (Bytes)                          150001 non-null  float64\n",
      " 44  Email UL (Bytes)                          150001 non-null  float64\n",
      " 45  Youtube DL (Bytes)                        150001 non-null  float64\n",
      " 46  Youtube UL (Bytes)                        150001 non-null  float64\n",
      " 47  Netflix DL (Bytes)                        150001 non-null  float64\n",
      " 48  Netflix UL (Bytes)                        150001 non-null  float64\n",
      " 49  Gaming DL (Bytes)                         150001 non-null  float64\n",
      " 50  Gaming UL (Bytes)                         150001 non-null  float64\n",
      " 51  Other DL (Bytes)                          150001 non-null  float64\n",
      " 52  Other UL (Bytes)                          150001 non-null  float64\n",
      " 53  Total UL (Bytes)                          150000 non-null  float64\n",
      " 54  Total DL (Bytes)                          150000 non-null  float64\n",
      "dtypes: float64(50), object(5)\n",
      "memory usage: 62.9+ MB\n"
     ]
    }
   ],
   "source": [
    "df['Bearer Id'].astype(str)\n",
    "df.info()"
   ]
  },
  {
   "cell_type": "code",
   "execution_count": 5,
   "id": "2bf44e35",
   "metadata": {},
   "outputs": [
    {
     "name": "stdout",
     "output_type": "stream",
     "text": [
      "The dataset has 150001 observations/rows and 55 columns.\n"
     ]
    }
   ],
   "source": [
    "print(f'The dataset has {df.shape[0]} observations/rows and {df.shape[1]} columns.')"
   ]
  },
  {
   "cell_type": "code",
   "execution_count": 6,
   "id": "784e41fa",
   "metadata": {},
   "outputs": [],
   "source": [
    "try:\n",
    "    del(DataClass)\n",
    "except NameError:\n",
    "    pass"
   ]
  },
  {
   "cell_type": "code",
   "execution_count": 7,
   "id": "d0a0d7c8",
   "metadata": {},
   "outputs": [],
   "source": [
    "DataClass = clean_data(df)"
   ]
  },
  {
   "cell_type": "markdown",
   "id": "57f986a8",
   "metadata": {},
   "source": [
    "## Change the data to the right values\n",
    "Let's change the data type to the right ones. As a matter of fact, the columns that store some values that could be consider as unique identifier should be transformed in object/text. It's the case of `Bearer Id`, `IMEI`, `MSISDN/Number` and `IMSI`"
   ]
  },
  {
   "cell_type": "code",
   "execution_count": 8,
   "id": "e671e4e2",
   "metadata": {},
   "outputs": [],
   "source": [
    "DataClass.right_type(objType=['Bearer Id','IMEI','MSISDN/Number','IMSI'])"
   ]
  },
  {
   "cell_type": "code",
   "execution_count": 9,
   "id": "ec095fef",
   "metadata": {},
   "outputs": [
    {
     "name": "stdout",
     "output_type": "stream",
     "text": [
      "<class 'pandas.core.frame.DataFrame'>\n",
      "RangeIndex: 150001 entries, 0 to 150000\n",
      "Data columns (total 55 columns):\n",
      " #   Column                                    Non-Null Count   Dtype  \n",
      "---  ------                                    --------------   -----  \n",
      " 0   Bearer Id                                 149010 non-null  object \n",
      " 1   Start                                     150000 non-null  object \n",
      " 2   Start ms                                  150000 non-null  float64\n",
      " 3   End                                       150000 non-null  object \n",
      " 4   End ms                                    150000 non-null  float64\n",
      " 5   Dur. (ms)                                 150000 non-null  float64\n",
      " 6   IMSI                                      149431 non-null  object \n",
      " 7   MSISDN/Number                             148935 non-null  object \n",
      " 8   IMEI                                      149429 non-null  object \n",
      " 9   Last Location Name                        148848 non-null  object \n",
      " 10  Avg RTT DL (ms)                           122172 non-null  float64\n",
      " 11  Avg RTT UL (ms)                           122189 non-null  float64\n",
      " 12  Avg Bearer TP DL (kbps)                   150000 non-null  float64\n",
      " 13  Avg Bearer TP UL (kbps)                   150000 non-null  float64\n",
      " 14  TCP DL Retrans. Vol (Bytes)               61855 non-null   float64\n",
      " 15  TCP UL Retrans. Vol (Bytes)               53352 non-null   float64\n",
      " 16  DL TP < 50 Kbps (%)                       149247 non-null  float64\n",
      " 17  50 Kbps < DL TP < 250 Kbps (%)            149247 non-null  float64\n",
      " 18  250 Kbps < DL TP < 1 Mbps (%)             149247 non-null  float64\n",
      " 19  DL TP > 1 Mbps (%)                        149247 non-null  float64\n",
      " 20  UL TP < 10 Kbps (%)                       149209 non-null  float64\n",
      " 21  10 Kbps < UL TP < 50 Kbps (%)             149209 non-null  float64\n",
      " 22  50 Kbps < UL TP < 300 Kbps (%)            149209 non-null  float64\n",
      " 23  UL TP > 300 Kbps (%)                      149209 non-null  float64\n",
      " 24  HTTP DL (Bytes)                           68527 non-null   float64\n",
      " 25  HTTP UL (Bytes)                           68191 non-null   float64\n",
      " 26  Activity Duration DL (ms)                 150000 non-null  float64\n",
      " 27  Activity Duration UL (ms)                 150000 non-null  float64\n",
      " 28  Dur. (ms).1                               150000 non-null  float64\n",
      " 29  Handset Manufacturer                      149429 non-null  object \n",
      " 30  Handset Type                              149429 non-null  object \n",
      " 31  Nb of sec with 125000B < Vol DL           52463 non-null   float64\n",
      " 32  Nb of sec with 1250B < Vol UL < 6250B     57107 non-null   float64\n",
      " 33  Nb of sec with 31250B < Vol DL < 125000B  56415 non-null   float64\n",
      " 34  Nb of sec with 37500B < Vol UL            19747 non-null   float64\n",
      " 35  Nb of sec with 6250B < Vol DL < 31250B    61684 non-null   float64\n",
      " 36  Nb of sec with 6250B < Vol UL < 37500B    38158 non-null   float64\n",
      " 37  Nb of sec with Vol DL < 6250B             149246 non-null  float64\n",
      " 38  Nb of sec with Vol UL < 1250B             149208 non-null  float64\n",
      " 39  Social Media DL (Bytes)                   150001 non-null  float64\n",
      " 40  Social Media UL (Bytes)                   150001 non-null  float64\n",
      " 41  Google DL (Bytes)                         150001 non-null  float64\n",
      " 42  Google UL (Bytes)                         150001 non-null  float64\n",
      " 43  Email DL (Bytes)                          150001 non-null  float64\n",
      " 44  Email UL (Bytes)                          150001 non-null  float64\n",
      " 45  Youtube DL (Bytes)                        150001 non-null  float64\n",
      " 46  Youtube UL (Bytes)                        150001 non-null  float64\n",
      " 47  Netflix DL (Bytes)                        150001 non-null  float64\n",
      " 48  Netflix UL (Bytes)                        150001 non-null  float64\n",
      " 49  Gaming DL (Bytes)                         150001 non-null  float64\n",
      " 50  Gaming UL (Bytes)                         150001 non-null  float64\n",
      " 51  Other DL (Bytes)                          150001 non-null  float64\n",
      " 52  Other UL (Bytes)                          150001 non-null  float64\n",
      " 53  Total UL (Bytes)                          150000 non-null  float64\n",
      " 54  Total DL (Bytes)                          150000 non-null  float64\n",
      "dtypes: float64(46), object(9)\n",
      "memory usage: 62.9+ MB\n"
     ]
    }
   ],
   "source": [
    "DataClass.df.info()"
   ]
  },
  {
   "cell_type": "markdown",
   "id": "9cd3d3fd",
   "metadata": {},
   "source": [
    "## Missing values\n",
    "Let's check the miss values in our data set."
   ]
  },
  {
   "cell_type": "code",
   "execution_count": 10,
   "id": "c344b445",
   "metadata": {},
   "outputs": [
    {
     "name": "stdout",
     "output_type": "stream",
     "text": [
      "The dataset contains 1031392 missing values in total\n",
      "The missing values represent 12.5% of the values contained in the set\n",
      "These values are distributed as follows:\n",
      "Nb of sec with 37500B < Vol UL              130254\n",
      "Nb of sec with 6250B < Vol UL < 37500B      111843\n",
      "Nb of sec with 125000B < Vol DL              97538\n",
      "TCP UL Retrans. Vol (Bytes)                  96649\n",
      "Nb of sec with 31250B < Vol DL < 125000B     93586\n",
      "Nb of sec with 1250B < Vol UL < 6250B        92894\n",
      "Nb of sec with 6250B < Vol DL < 31250B       88317\n",
      "TCP DL Retrans. Vol (Bytes)                  88146\n",
      "HTTP UL (Bytes)                              81810\n",
      "HTTP DL (Bytes)                              81474\n",
      "Avg RTT DL (ms)                              27829\n",
      "Avg RTT UL (ms)                              27812\n",
      "Last Location Name                            1153\n",
      "MSISDN/Number                                 1066\n",
      "Bearer Id                                      991\n",
      "Nb of sec with Vol UL < 1250B                  793\n",
      "UL TP < 10 Kbps (%)                            792\n",
      "10 Kbps < UL TP < 50 Kbps (%)                  792\n",
      "50 Kbps < UL TP < 300 Kbps (%)                 792\n",
      "UL TP > 300 Kbps (%)                           792\n",
      "Nb of sec with Vol DL < 6250B                  755\n",
      "DL TP < 50 Kbps (%)                            754\n",
      "50 Kbps < DL TP < 250 Kbps (%)                 754\n",
      "250 Kbps < DL TP < 1 Mbps (%)                  754\n",
      "DL TP > 1 Mbps (%)                             754\n",
      "Handset Type                                   572\n",
      "IMEI                                           572\n",
      "Handset Manufacturer                           572\n",
      "IMSI                                           570\n",
      "Total UL (Bytes)                                 1\n",
      "Activity Duration UL (ms)                        1\n",
      "Dur. (ms).1                                      1\n",
      "End ms                                           1\n",
      "Start ms                                         1\n",
      "Start                                            1\n",
      "End                                              1\n",
      "Total DL (Bytes)                                 1\n",
      "Dur. (ms)                                        1\n",
      "Activity Duration DL (ms)                        1\n",
      "Avg Bearer TP UL (kbps)                          1\n",
      "Avg Bearer TP DL (kbps)                          1\n",
      "Netflix DL (Bytes)                               0\n",
      "Other UL (Bytes)                                 0\n",
      "Other DL (Bytes)                                 0\n",
      "Gaming UL (Bytes)                                0\n",
      "Gaming DL (Bytes)                                0\n",
      "Netflix UL (Bytes)                               0\n",
      "Youtube UL (Bytes)                               0\n",
      "Youtube DL (Bytes)                               0\n",
      "Email UL (Bytes)                                 0\n",
      "Google UL (Bytes)                                0\n",
      "Google DL (Bytes)                                0\n",
      "Social Media UL (Bytes)                          0\n",
      "Social Media DL (Bytes)                          0\n",
      "Email DL (Bytes)                                 0\n",
      "dtype: int64\n"
     ]
    }
   ],
   "source": [
    "missingCountCol, missingCountTot, missingPerc = DataClass.missing_values()"
   ]
  },
  {
   "cell_type": "markdown",
   "id": "a8085abc",
   "metadata": {},
   "source": [
    "Before starting, one could easily notice that we only get the values related to the upload and download data per application. But we don't have for the total. So, one can just decide to remove it. But since we'have the information on the upload and download data, we'll keep it.</br>\n",
    "Let's explore to see if we're able to find any relationship between the data used per application and the total."
   ]
  },
  {
   "cell_type": "code",
   "execution_count": 11,
   "id": "377ba4b4",
   "metadata": {
    "scrolled": false
   },
   "outputs": [
    {
     "data": {
      "text/plain": [
       "Bearer Id                                                NaN\n",
       "Start                                                    NaN\n",
       "Start ms                                                 NaN\n",
       "End                                                      NaN\n",
       "End ms                                                   NaN\n",
       "Dur. (ms)                                                NaN\n",
       "IMSI                                                     NaN\n",
       "MSISDN/Number                                            NaN\n",
       "IMEI                                                     NaN\n",
       "Last Location Name                                       NaN\n",
       "Avg RTT DL (ms)                                          NaN\n",
       "Avg RTT UL (ms)                                          NaN\n",
       "Avg Bearer TP DL (kbps)                                  NaN\n",
       "Avg Bearer TP UL (kbps)                                  NaN\n",
       "TCP DL Retrans. Vol (Bytes)                              NaN\n",
       "TCP UL Retrans. Vol (Bytes)                              NaN\n",
       "DL TP < 50 Kbps (%)                                      NaN\n",
       "50 Kbps < DL TP < 250 Kbps (%)                           NaN\n",
       "250 Kbps < DL TP < 1 Mbps (%)                            NaN\n",
       "DL TP > 1 Mbps (%)                                       NaN\n",
       "UL TP < 10 Kbps (%)                                      NaN\n",
       "10 Kbps < UL TP < 50 Kbps (%)                            NaN\n",
       "50 Kbps < UL TP < 300 Kbps (%)                           NaN\n",
       "UL TP > 300 Kbps (%)                                     NaN\n",
       "HTTP DL (Bytes)                                          NaN\n",
       "HTTP UL (Bytes)                                          NaN\n",
       "Activity Duration DL (ms)                                NaN\n",
       "Activity Duration UL (ms)                                NaN\n",
       "Dur. (ms).1                                              NaN\n",
       "Handset Manufacturer                                     NaN\n",
       "Handset Type                                             NaN\n",
       "Nb of sec with 125000B < Vol DL                          NaN\n",
       "Nb of sec with 1250B < Vol UL < 6250B                    NaN\n",
       "Nb of sec with 31250B < Vol DL < 125000B                 NaN\n",
       "Nb of sec with 37500B < Vol UL                           NaN\n",
       "Nb of sec with 6250B < Vol DL < 31250B                   NaN\n",
       "Nb of sec with 6250B < Vol UL < 37500B                   NaN\n",
       "Nb of sec with Vol DL < 6250B                            NaN\n",
       "Nb of sec with Vol UL < 1250B                            NaN\n",
       "Social Media DL (Bytes)                       1795321.773647\n",
       "Social Media UL (Bytes)                          32928.43438\n",
       "Google DL (Bytes)                             5750752.619287\n",
       "Google UL (Bytes)                             2056541.926287\n",
       "Email DL (Bytes)                               1791728.86802\n",
       "Email UL (Bytes)                                467373.44194\n",
       "Youtube DL (Bytes)                             11634072.5039\n",
       "Youtube UL (Bytes)                             11009410.1347\n",
       "Netflix DL (Bytes)                            11626851.71874\n",
       "Netflix UL (Bytes)                            11001754.81964\n",
       "Gaming DL (Bytes)                           422044702.595373\n",
       "Gaming UL (Bytes)                             8288398.110733\n",
       "Other DL (Bytes)                            421100544.194493\n",
       "Other UL (Bytes)                              8264799.424427\n",
       "Total UL (Bytes)                                         NaN\n",
       "Total DL (Bytes)                                         NaN\n",
       "Name: 150000, dtype: object"
      ]
     },
     "execution_count": 11,
     "metadata": {},
     "output_type": "execute_result"
    }
   ],
   "source": [
    "DataClass.df.iloc[-1,:]"
   ]
  },
  {
   "cell_type": "code",
   "execution_count": 12,
   "id": "49e401d6",
   "metadata": {},
   "outputs": [
    {
     "data": {
      "text/html": [
       "<div>\n",
       "<style scoped>\n",
       "    .dataframe tbody tr th:only-of-type {\n",
       "        vertical-align: middle;\n",
       "    }\n",
       "\n",
       "    .dataframe tbody tr th {\n",
       "        vertical-align: top;\n",
       "    }\n",
       "\n",
       "    .dataframe thead th {\n",
       "        text-align: right;\n",
       "    }\n",
       "</style>\n",
       "<table border=\"1\" class=\"dataframe\">\n",
       "  <thead>\n",
       "    <tr style=\"text-align: right;\">\n",
       "      <th></th>\n",
       "      <th>Social Media UL (Bytes)</th>\n",
       "      <th>Google UL (Bytes)</th>\n",
       "      <th>Email UL (Bytes)</th>\n",
       "      <th>Youtube UL (Bytes)</th>\n",
       "      <th>Netflix UL (Bytes)</th>\n",
       "      <th>Gaming UL (Bytes)</th>\n",
       "      <th>Other UL (Bytes)</th>\n",
       "    </tr>\n",
       "  </thead>\n",
       "  <tbody>\n",
       "    <tr>\n",
       "      <th>150000</th>\n",
       "      <td>32928.43438</td>\n",
       "      <td>2.056542e+06</td>\n",
       "      <td>467373.44194</td>\n",
       "      <td>1.100941e+07</td>\n",
       "      <td>1.100175e+07</td>\n",
       "      <td>8.288398e+06</td>\n",
       "      <td>8.264799e+06</td>\n",
       "    </tr>\n",
       "  </tbody>\n",
       "</table>\n",
       "</div>"
      ],
      "text/plain": [
       "        Social Media UL (Bytes)  Google UL (Bytes)  Email UL (Bytes)  \\\n",
       "150000              32928.43438       2.056542e+06      467373.44194   \n",
       "\n",
       "        Youtube UL (Bytes)  Netflix UL (Bytes)  Gaming UL (Bytes)  \\\n",
       "150000        1.100941e+07        1.100175e+07       8.288398e+06   \n",
       "\n",
       "        Other UL (Bytes)  \n",
       "150000      8.264799e+06  "
      ]
     },
     "execution_count": 12,
     "metadata": {},
     "output_type": "execute_result"
    }
   ],
   "source": [
    "# Compute the total of UL data\n",
    "#TotalULMe = \n",
    "DataClass.df[-1:].loc[:,['Social Media UL (Bytes)','Google UL (Bytes)','Email UL (Bytes)','Youtube UL (Bytes)',\n",
    "                         'Netflix UL (Bytes)','Gaming UL (Bytes)','Other UL (Bytes)']]\n",
    "#TotalULMe.sum(1)"
   ]
  },
  {
   "cell_type": "code",
   "execution_count": 13,
   "id": "a1275836",
   "metadata": {},
   "outputs": [
    {
     "data": {
      "text/plain": [
       "0"
      ]
     },
     "execution_count": 13,
     "metadata": {},
     "output_type": "execute_result"
    }
   ],
   "source": [
    "# Compute the total of UL data\n",
    "TotalULMe = DataClass.df[:-1].loc[:,['Social Media UL (Bytes)','Google UL (Bytes)','Email UL (Bytes)','Youtube UL (Bytes)',\n",
    "                         'Netflix UL (Bytes)','Gaming UL (Bytes)','Other UL (Bytes)']].sum(1)\n",
    "(TotalULMe != DataClass.df[:-1].loc[:,'Total UL (Bytes)']).sum()"
   ]
  },
  {
   "cell_type": "code",
   "execution_count": 14,
   "id": "406769e0",
   "metadata": {},
   "outputs": [
    {
     "data": {
      "text/plain": [
       "0"
      ]
     },
     "execution_count": 14,
     "metadata": {},
     "output_type": "execute_result"
    }
   ],
   "source": [
    "# Compute the total of DL data\n",
    "TotalDLMe = DataClass.df[:-1].loc[:,['Social Media DL (Bytes)','Google DL (Bytes)','Email DL (Bytes)','Youtube DL (Bytes)',\n",
    "                         'Netflix DL (Bytes)','Gaming DL (Bytes)']].sum(1)\n",
    "(TotalDLMe != DataClass.df[:-1].loc[:,'Total DL (Bytes)']).sum()"
   ]
  },
  {
   "cell_type": "markdown",
   "id": "ef912eee",
   "metadata": {},
   "source": [
    "One should notice that Total UL is equal to the sum of used data per application and other.\n",
    "The same Total DL is equal to the sum of used data per application (without others).\n",
    "Understanding these relations will help us to find the right value for the Total UL and DL for the last row/observation. Let's fill it now!"
   ]
  },
  {
   "cell_type": "code",
   "execution_count": 15,
   "id": "3649269d",
   "metadata": {},
   "outputs": [
    {
     "name": "stderr",
     "output_type": "stream",
     "text": [
      "C:\\Users\\sedam\\anaconda3\\lib\\site-packages\\pandas\\core\\indexing.py:1676: SettingWithCopyWarning: \n",
      "A value is trying to be set on a copy of a slice from a DataFrame.\n",
      "Try using .loc[row_indexer,col_indexer] = value instead\n",
      "\n",
      "See the caveats in the documentation: https://pandas.pydata.org/pandas-docs/stable/user_guide/indexing.html#returning-a-view-versus-a-copy\n",
      "  self._setitem_single_column(ilocs[0], value, pi)\n"
     ]
    }
   ],
   "source": [
    "# Fill total UL for the last user\n",
    "DataClass.df.iloc[-1:,:].loc[:,'Total UL (Bytes)'] = DataClass.df.iloc[-1:].loc[:,['Social Media UL (Bytes)','Google UL (Bytes)','Email UL (Bytes)','Youtube UL (Bytes)','Netflix UL (Bytes)','Gaming UL (Bytes)','Other UL (Bytes)']].sum(1)"
   ]
  },
  {
   "cell_type": "code",
   "execution_count": 16,
   "id": "cadbdfee",
   "metadata": {},
   "outputs": [
    {
     "data": {
      "text/plain": [
       "0"
      ]
     },
     "execution_count": 16,
     "metadata": {},
     "output_type": "execute_result"
    }
   ],
   "source": [
    "# Check for UL Data\n",
    "TotalULMe = DataClass.df.loc[:,['Social Media UL (Bytes)','Google UL (Bytes)','Email UL (Bytes)','Youtube UL (Bytes)',\n",
    "                         'Netflix UL (Bytes)','Gaming UL (Bytes)','Other UL (Bytes)']].sum(1)\n",
    "(TotalULMe != DataClass.df.loc[:,'Total UL (Bytes)']).sum()"
   ]
  },
  {
   "cell_type": "code",
   "execution_count": 17,
   "id": "be08676f",
   "metadata": {},
   "outputs": [
    {
     "name": "stderr",
     "output_type": "stream",
     "text": [
      "C:\\Users\\sedam\\anaconda3\\lib\\site-packages\\pandas\\core\\indexing.py:1676: SettingWithCopyWarning: \n",
      "A value is trying to be set on a copy of a slice from a DataFrame.\n",
      "Try using .loc[row_indexer,col_indexer] = value instead\n",
      "\n",
      "See the caveats in the documentation: https://pandas.pydata.org/pandas-docs/stable/user_guide/indexing.html#returning-a-view-versus-a-copy\n",
      "  self._setitem_single_column(ilocs[0], value, pi)\n"
     ]
    }
   ],
   "source": [
    "# Fill total DL for the last user\n",
    "DataClass.df.iloc[-1:,:].loc[:,'Total DL (Bytes)'] = DataClass.df.iloc[-1:].loc[:,['Social Media DL (Bytes)','Google DL (Bytes)','Email DL (Bytes)','Youtube DL (Bytes)','Netflix DL (Bytes)','Gaming DL (Bytes)']].sum(1)"
   ]
  },
  {
   "cell_type": "code",
   "execution_count": 18,
   "id": "1e00fea7",
   "metadata": {},
   "outputs": [
    {
     "data": {
      "text/plain": [
       "0"
      ]
     },
     "execution_count": 18,
     "metadata": {},
     "output_type": "execute_result"
    }
   ],
   "source": [
    "# Check for DL data\n",
    "TotalDLMe = DataClass.df.loc[:,['Social Media DL (Bytes)','Google DL (Bytes)','Email DL (Bytes)','Youtube DL (Bytes)',\n",
    "                         'Netflix DL (Bytes)','Gaming DL (Bytes)']].sum(1)\n",
    "(TotalDLMe != DataClass.df.loc[:,'Total DL (Bytes)']).sum()"
   ]
  },
  {
   "cell_type": "code",
   "execution_count": 19,
   "id": "104d55b9",
   "metadata": {},
   "outputs": [
    {
     "name": "stdout",
     "output_type": "stream",
     "text": [
      "The dataset contains 1031390 missing values in total\n",
      "The missing values represent 12.5% of the values contained in the set\n",
      "These values are distributed as follows:\n",
      "Nb of sec with 37500B < Vol UL              130254\n",
      "Nb of sec with 6250B < Vol UL < 37500B      111843\n",
      "Nb of sec with 125000B < Vol DL              97538\n",
      "TCP UL Retrans. Vol (Bytes)                  96649\n",
      "Nb of sec with 31250B < Vol DL < 125000B     93586\n",
      "Nb of sec with 1250B < Vol UL < 6250B        92894\n",
      "Nb of sec with 6250B < Vol DL < 31250B       88317\n",
      "TCP DL Retrans. Vol (Bytes)                  88146\n",
      "HTTP UL (Bytes)                              81810\n",
      "HTTP DL (Bytes)                              81474\n",
      "Avg RTT DL (ms)                              27829\n",
      "Avg RTT UL (ms)                              27812\n",
      "Last Location Name                            1153\n",
      "MSISDN/Number                                 1066\n",
      "Bearer Id                                      991\n",
      "Nb of sec with Vol UL < 1250B                  793\n",
      "UL TP < 10 Kbps (%)                            792\n",
      "10 Kbps < UL TP < 50 Kbps (%)                  792\n",
      "50 Kbps < UL TP < 300 Kbps (%)                 792\n",
      "UL TP > 300 Kbps (%)                           792\n",
      "Nb of sec with Vol DL < 6250B                  755\n",
      "DL TP < 50 Kbps (%)                            754\n",
      "50 Kbps < DL TP < 250 Kbps (%)                 754\n",
      "250 Kbps < DL TP < 1 Mbps (%)                  754\n",
      "DL TP > 1 Mbps (%)                             754\n",
      "Handset Manufacturer                           572\n",
      "IMEI                                           572\n",
      "Handset Type                                   572\n",
      "IMSI                                           570\n",
      "Activity Duration UL (ms)                        1\n",
      "Dur. (ms).1                                      1\n",
      "Activity Duration DL (ms)                        1\n",
      "Avg Bearer TP UL (kbps)                          1\n",
      "Avg Bearer TP DL (kbps)                          1\n",
      "Dur. (ms)                                        1\n",
      "End ms                                           1\n",
      "End                                              1\n",
      "Start ms                                         1\n",
      "Start                                            1\n",
      "Netflix DL (Bytes)                               0\n",
      "Total UL (Bytes)                                 0\n",
      "Other UL (Bytes)                                 0\n",
      "Other DL (Bytes)                                 0\n",
      "Gaming UL (Bytes)                                0\n",
      "Gaming DL (Bytes)                                0\n",
      "Netflix UL (Bytes)                               0\n",
      "Google UL (Bytes)                                0\n",
      "Youtube UL (Bytes)                               0\n",
      "Youtube DL (Bytes)                               0\n",
      "Email UL (Bytes)                                 0\n",
      "Email DL (Bytes)                                 0\n",
      "Google DL (Bytes)                                0\n",
      "Social Media UL (Bytes)                          0\n",
      "Social Media DL (Bytes)                          0\n",
      "Total DL (Bytes)                                 0\n",
      "dtype: int64\n"
     ]
    },
    {
     "data": {
      "text/plain": [
       "1031390"
      ]
     },
     "execution_count": 19,
     "metadata": {},
     "output_type": "execute_result"
    }
   ],
   "source": [
    "DataClass.missing_values()[1]"
   ]
  },
  {
   "cell_type": "markdown",
   "id": "48a2975d",
   "metadata": {},
   "source": [
    "Our data $12.47\\%$ of missing values. One could decide to impute the data but first of all let's dive inside the missing values to understand those missing values.\n",
    "* Firstly, since `IMSI`, `MSISDN/Number` and `IMEI` could be considered as unique identifier, it won't make any sense to impute them. Using an imputation method would generate the same identifier and this could lead to a bias in the analysis. \n",
    "* Secondly, we will not impute the missing values of the categorical variable as `Handset Manufacturer` and `Handset Type`.\n",
    "Now, we can make the imputation for the numerical data. The data imputation will be done using either the mean (if the $\\vert skewness\\vert<1$) or the median (otherwise). To do so, we'll use a function we wrote named `fillingMissing`"
   ]
  },
  {
   "cell_type": "code",
   "execution_count": 20,
   "id": "0ad03bf2",
   "metadata": {},
   "outputs": [
    {
     "name": "stdout",
     "output_type": "stream",
     "text": [
      "The dataset contains 5498 missing values in total\n",
      "The missing values represent 0.07% of the values contained in the set\n",
      "These values are distributed as follows:\n",
      "Last Location Name                          1153\n",
      "MSISDN/Number                               1066\n",
      "Bearer Id                                    991\n",
      "Handset Manufacturer                         572\n",
      "IMEI                                         572\n",
      "Handset Type                                 572\n",
      "IMSI                                         570\n",
      "End                                            1\n",
      "Start                                          1\n",
      "Google DL (Bytes)                              0\n",
      "Total UL (Bytes)                               0\n",
      "Nb of sec with 31250B < Vol DL < 125000B       0\n",
      "Nb of sec with 37500B < Vol UL                 0\n",
      "Nb of sec with 6250B < Vol DL < 31250B         0\n",
      "Nb of sec with 6250B < Vol UL < 37500B         0\n",
      "Nb of sec with Vol DL < 6250B                  0\n",
      "Nb of sec with Vol UL < 1250B                  0\n",
      "Social Media DL (Bytes)                        0\n",
      "Social Media UL (Bytes)                        0\n",
      "Google UL (Bytes)                              0\n",
      "Other DL (Bytes)                               0\n",
      "Email DL (Bytes)                               0\n",
      "Email UL (Bytes)                               0\n",
      "Nb of sec with 1250B < Vol UL < 6250B          0\n",
      "Youtube UL (Bytes)                             0\n",
      "Netflix DL (Bytes)                             0\n",
      "Netflix UL (Bytes)                             0\n",
      "Gaming DL (Bytes)                              0\n",
      "Gaming UL (Bytes)                              0\n",
      "Other UL (Bytes)                               0\n",
      "Youtube DL (Bytes)                             0\n",
      "Activity Duration UL (ms)                      0\n",
      "Nb of sec with 125000B < Vol DL                0\n",
      "DL TP < 50 Kbps (%)                            0\n",
      "Start ms                                       0\n",
      "End ms                                         0\n",
      "Dur. (ms)                                      0\n",
      "Avg RTT DL (ms)                                0\n",
      "Avg RTT UL (ms)                                0\n",
      "Avg Bearer TP DL (kbps)                        0\n",
      "Avg Bearer TP UL (kbps)                        0\n",
      "TCP DL Retrans. Vol (Bytes)                    0\n",
      "TCP UL Retrans. Vol (Bytes)                    0\n",
      "50 Kbps < DL TP < 250 Kbps (%)                 0\n",
      "Dur. (ms).1                                    0\n",
      "250 Kbps < DL TP < 1 Mbps (%)                  0\n",
      "DL TP > 1 Mbps (%)                             0\n",
      "UL TP < 10 Kbps (%)                            0\n",
      "10 Kbps < UL TP < 50 Kbps (%)                  0\n",
      "50 Kbps < UL TP < 300 Kbps (%)                 0\n",
      "UL TP > 300 Kbps (%)                           0\n",
      "HTTP DL (Bytes)                                0\n",
      "HTTP UL (Bytes)                                0\n",
      "Activity Duration DL (ms)                      0\n",
      "Total DL (Bytes)                               0\n",
      "dtype: int64\n"
     ]
    },
    {
     "data": {
      "text/plain": [
       "5498"
      ]
     },
     "execution_count": 20,
     "metadata": {},
     "output_type": "execute_result"
    }
   ],
   "source": [
    "DataClass.fillMissing()\n",
    "DataClass.missing_values()[1]"
   ]
  },
  {
   "cell_type": "markdown",
   "id": "4b56e8f0",
   "metadata": {},
   "source": [
    "## Deal with the outliers\n"
   ]
  },
  {
   "cell_type": "code",
   "execution_count": 21,
   "id": "7651ea91",
   "metadata": {},
   "outputs": [],
   "source": [
    "# Function to deal with the outliers\n",
    "def fix_outlier(df, column):\n",
    "    if column==None:\n",
    "        column = df.select_dtypes([np.number]).columns\n",
    "    df[column] = np.where((df[column] > df[column].quantile(0.75)+1.5*(df[column].quantile(0.75)-df[column].quantile(0.25))) | (df[column] < df[column].quantile(0.25)-1.5*(df[column].quantile(0.75)-df[column].quantile(0.25))), df[column].median(),df[column])\n",
    "    \n",
    "    return df[column]"
   ]
  },
  {
   "cell_type": "code",
   "execution_count": 22,
   "id": "ef649871",
   "metadata": {},
   "outputs": [
    {
     "data": {
      "text/plain": [
       "Index(['Start ms', 'End ms', 'Dur. (ms)', 'Avg RTT DL (ms)', 'Avg RTT UL (ms)',\n",
       "       'Avg Bearer TP DL (kbps)', 'Avg Bearer TP UL (kbps)',\n",
       "       'TCP DL Retrans. Vol (Bytes)', 'TCP UL Retrans. Vol (Bytes)',\n",
       "       'DL TP < 50 Kbps (%)', '50 Kbps < DL TP < 250 Kbps (%)',\n",
       "       '250 Kbps < DL TP < 1 Mbps (%)', 'DL TP > 1 Mbps (%)',\n",
       "       'UL TP < 10 Kbps (%)', '10 Kbps < UL TP < 50 Kbps (%)',\n",
       "       '50 Kbps < UL TP < 300 Kbps (%)', 'UL TP > 300 Kbps (%)',\n",
       "       'HTTP DL (Bytes)', 'HTTP UL (Bytes)', 'Activity Duration DL (ms)',\n",
       "       'Activity Duration UL (ms)', 'Dur. (ms).1',\n",
       "       'Nb of sec with 125000B < Vol DL',\n",
       "       'Nb of sec with 1250B < Vol UL < 6250B',\n",
       "       'Nb of sec with 31250B < Vol DL < 125000B',\n",
       "       'Nb of sec with 37500B < Vol UL',\n",
       "       'Nb of sec with 6250B < Vol DL < 31250B',\n",
       "       'Nb of sec with 6250B < Vol UL < 37500B',\n",
       "       'Nb of sec with Vol DL < 6250B', 'Nb of sec with Vol UL < 1250B',\n",
       "       'Social Media DL (Bytes)', 'Social Media UL (Bytes)',\n",
       "       'Google DL (Bytes)', 'Google UL (Bytes)', 'Email DL (Bytes)',\n",
       "       'Email UL (Bytes)', 'Youtube DL (Bytes)', 'Youtube UL (Bytes)',\n",
       "       'Netflix DL (Bytes)', 'Netflix UL (Bytes)', 'Gaming DL (Bytes)',\n",
       "       'Gaming UL (Bytes)', 'Other DL (Bytes)', 'Other UL (Bytes)',\n",
       "       'Total UL (Bytes)', 'Total DL (Bytes)'],\n",
       "      dtype='object')"
      ]
     },
     "execution_count": 22,
     "metadata": {},
     "output_type": "execute_result"
    }
   ],
   "source": [
    "numcol = DataClass.df.select_dtypes([np.number]).columns\n",
    "numcol"
   ]
  },
  {
   "cell_type": "code",
   "execution_count": 23,
   "id": "fc9567d2",
   "metadata": {},
   "outputs": [],
   "source": [
    "dfClean = DataClass.df.copy()"
   ]
  },
  {
   "cell_type": "code",
   "execution_count": 24,
   "id": "958a57c4",
   "metadata": {},
   "outputs": [],
   "source": [
    "dfClean[numcol] = fix_outlier(dfClean,None)"
   ]
  },
  {
   "cell_type": "code",
   "execution_count": 25,
   "id": "47c5f057",
   "metadata": {},
   "outputs": [],
   "source": [
    "# Correct the column name for duration\n",
    "dfClean = dfClean.rename(columns={'Dur. (ms)':'Dur. (s)'})"
   ]
  },
  {
   "cell_type": "code",
   "execution_count": 26,
   "id": "e378bac9",
   "metadata": {},
   "outputs": [],
   "source": [
    "# Export the data to csv format\n",
    "dfClean.to_csv(\"../data/Cleaned_Data.csv\",index=False)"
   ]
  }
 ],
 "metadata": {
  "kernelspec": {
   "display_name": "Python 3",
   "language": "python",
   "name": "python3"
  },
  "language_info": {
   "codemirror_mode": {
    "name": "ipython",
    "version": 3
   },
   "file_extension": ".py",
   "mimetype": "text/x-python",
   "name": "python",
   "nbconvert_exporter": "python",
   "pygments_lexer": "ipython3",
   "version": "3.8.8"
  }
 },
 "nbformat": 4,
 "nbformat_minor": 5
}
