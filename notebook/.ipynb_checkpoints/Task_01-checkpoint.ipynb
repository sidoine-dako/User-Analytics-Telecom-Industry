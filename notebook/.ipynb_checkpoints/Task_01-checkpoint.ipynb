{
 "cells": [
  {
   "cell_type": "markdown",
   "id": "99fa6c54",
   "metadata": {},
   "source": [
    "# TASK 1: User Overview analysis"
   ]
  },
  {
   "cell_type": "code",
   "execution_count": 1,
   "id": "e0018c94",
   "metadata": {},
   "outputs": [],
   "source": [
    "# Import the libraries\n",
    "import pandas as pd\n",
    "import numpy as np\n",
    "import matplotlib.pyplot as plt\n",
    "import seaborn as sns"
   ]
  },
  {
   "cell_type": "code",
   "execution_count": 2,
   "id": "60ee2dbd",
   "metadata": {},
   "outputs": [],
   "source": [
    "import sys\n",
    "sys.path.append('../scripts')\n",
    "from Clean_data import clean_data\n",
    "from Extract_data import extract_data"
   ]
  },
  {
   "cell_type": "code",
   "execution_count": 3,
   "id": "60cf4cc2",
   "metadata": {},
   "outputs": [
    {
     "name": "stdout",
     "output_type": "stream",
     "text": [
      "<class 'pandas.core.frame.DataFrame'>\n",
      "RangeIndex: 150001 entries, 0 to 150000\n",
      "Data columns (total 55 columns):\n",
      " #   Column                                    Non-Null Count   Dtype  \n",
      "---  ------                                    --------------   -----  \n",
      " 0   Bearer Id                                 149010 non-null  float64\n",
      " 1   Start                                     150000 non-null  object \n",
      " 2   Start ms                                  150000 non-null  float64\n",
      " 3   End                                       150000 non-null  object \n",
      " 4   End ms                                    150000 non-null  float64\n",
      " 5   Dur. (ms)                                 150000 non-null  float64\n",
      " 6   IMSI                                      149431 non-null  float64\n",
      " 7   MSISDN/Number                             148935 non-null  float64\n",
      " 8   IMEI                                      149429 non-null  float64\n",
      " 9   Last Location Name                        148848 non-null  object \n",
      " 10  Avg RTT DL (ms)                           122172 non-null  float64\n",
      " 11  Avg RTT UL (ms)                           122189 non-null  float64\n",
      " 12  Avg Bearer TP DL (kbps)                   150000 non-null  float64\n",
      " 13  Avg Bearer TP UL (kbps)                   150000 non-null  float64\n",
      " 14  TCP DL Retrans. Vol (Bytes)               61855 non-null   float64\n",
      " 15  TCP UL Retrans. Vol (Bytes)               53352 non-null   float64\n",
      " 16  DL TP < 50 Kbps (%)                       149247 non-null  float64\n",
      " 17  50 Kbps < DL TP < 250 Kbps (%)            149247 non-null  float64\n",
      " 18  250 Kbps < DL TP < 1 Mbps (%)             149247 non-null  float64\n",
      " 19  DL TP > 1 Mbps (%)                        149247 non-null  float64\n",
      " 20  UL TP < 10 Kbps (%)                       149209 non-null  float64\n",
      " 21  10 Kbps < UL TP < 50 Kbps (%)             149209 non-null  float64\n",
      " 22  50 Kbps < UL TP < 300 Kbps (%)            149209 non-null  float64\n",
      " 23  UL TP > 300 Kbps (%)                      149209 non-null  float64\n",
      " 24  HTTP DL (Bytes)                           68527 non-null   float64\n",
      " 25  HTTP UL (Bytes)                           68191 non-null   float64\n",
      " 26  Activity Duration DL (ms)                 150000 non-null  float64\n",
      " 27  Activity Duration UL (ms)                 150000 non-null  float64\n",
      " 28  Dur. (ms).1                               150000 non-null  float64\n",
      " 29  Handset Manufacturer                      149429 non-null  object \n",
      " 30  Handset Type                              149429 non-null  object \n",
      " 31  Nb of sec with 125000B < Vol DL           52463 non-null   float64\n",
      " 32  Nb of sec with 1250B < Vol UL < 6250B     57107 non-null   float64\n",
      " 33  Nb of sec with 31250B < Vol DL < 125000B  56415 non-null   float64\n",
      " 34  Nb of sec with 37500B < Vol UL            19747 non-null   float64\n",
      " 35  Nb of sec with 6250B < Vol DL < 31250B    61684 non-null   float64\n",
      " 36  Nb of sec with 6250B < Vol UL < 37500B    38158 non-null   float64\n",
      " 37  Nb of sec with Vol DL < 6250B             149246 non-null  float64\n",
      " 38  Nb of sec with Vol UL < 1250B             149208 non-null  float64\n",
      " 39  Social Media DL (Bytes)                   150001 non-null  float64\n",
      " 40  Social Media UL (Bytes)                   150001 non-null  float64\n",
      " 41  Google DL (Bytes)                         150001 non-null  float64\n",
      " 42  Google UL (Bytes)                         150001 non-null  float64\n",
      " 43  Email DL (Bytes)                          150001 non-null  float64\n",
      " 44  Email UL (Bytes)                          150001 non-null  float64\n",
      " 45  Youtube DL (Bytes)                        150001 non-null  float64\n",
      " 46  Youtube UL (Bytes)                        150001 non-null  float64\n",
      " 47  Netflix DL (Bytes)                        150001 non-null  float64\n",
      " 48  Netflix UL (Bytes)                        150001 non-null  float64\n",
      " 49  Gaming DL (Bytes)                         150001 non-null  float64\n",
      " 50  Gaming UL (Bytes)                         150001 non-null  float64\n",
      " 51  Other DL (Bytes)                          150001 non-null  float64\n",
      " 52  Other UL (Bytes)                          150001 non-null  float64\n",
      " 53  Total UL (Bytes)                          150000 non-null  float64\n",
      " 54  Total DL (Bytes)                          150000 non-null  float64\n",
      "dtypes: float64(50), object(5)\n",
      "memory usage: 62.9+ MB\n"
     ]
    }
   ],
   "source": [
    "# Import the dataset\n",
    "df = pd.read_csv(\"../data/Week1_challenge_data_source(CSV).csv\")\n",
    "df.info()"
   ]
  },
  {
   "cell_type": "markdown",
   "id": "8e177510",
   "metadata": {},
   "source": [
    "## Sub-tasks"
   ]
  },
  {
   "cell_type": "markdown",
   "id": "1f5ee9f9",
   "metadata": {},
   "source": [
    ">## Identifying the top 10 handsets used by the customers </br>"
   ]
  },
  {
   "cell_type": "markdown",
   "id": "f0936385",
   "metadata": {},
   "source": [
    "The handsets type of the customers are stored in the column named `Handset Type`. But before extracting the information for this column, we should identify each unique user/customer. As a matter of fact, a customer can be identified by either his/her IMSI, MSISDN/number or IMEI."
   ]
  },
  {
   "cell_type": "code",
   "execution_count": null,
   "id": "11872fbb",
   "metadata": {},
   "outputs": [],
   "source": [
    "# Search the column that have the less number of missing values\n",
    "IdVariable = clean_data(df[['IMSI','MSISDN/Number', 'IMEI','Handset Type']])\n",
    "missingCol,_,_ = IdVariable.missing_values(verbose=False)\n",
    "missingCol"
   ]
  },
  {
   "cell_type": "markdown",
   "id": "9903ebad",
   "metadata": {},
   "source": [
    "Thus one can choose to use the `IMSI` to identify each customer because we get more information using this field instead of `IMEI` or `MSISDN/Number`. Nethertheless, one can also choose to use the `IMEI`. Since we're looking for the handset type, we can just focus on the **IMEI** because it's an unique number which identify a device on a mobile network. Furthermore, without the IMEI, we can't identify the handset type - this is the reason why we get the same number of missing values for those two columns. Even if, we get less missing values for IMSI, this caracteristics does not ensure that we'll get the maximum of information relative to the handset type."
   ]
  },
  {
   "cell_type": "code",
   "execution_count": null,
   "id": "f9683f59",
   "metadata": {},
   "outputs": [],
   "source": [
    "# Extract the unique customer from the table\n",
    "UniqueUser = df.loc[:,['IMEI','Handset Manufacturer','Handset Type']].dropna(how=\"all\")\n",
    "# Drop the duplicates\n",
    "UniqueUser = UniqueUser.drop_duplicates()\n",
    "# Count the number of each handset type and identify the top 10\n",
    "UniqueUser.loc[:,'Handset Type'].value_counts()[:10]"
   ]
  },
  {
   "cell_type": "code",
   "execution_count": null,
   "id": "5ab9d89c",
   "metadata": {},
   "outputs": [],
   "source": [
    "# Count the number of each handset type and identify the top 10 (without undefined handset type)\n",
    "UniqueUser.query(\"`Handset Type`!='undefined'\").loc[:,'Handset Type'].value_counts()[:10]"
   ]
  },
  {
   "cell_type": "markdown",
   "id": "4d2a4619",
   "metadata": {},
   "source": [
    ">## Identify the three top handset manufacturer"
   ]
  },
  {
   "cell_type": "code",
   "execution_count": null,
   "id": "a6d817df",
   "metadata": {},
   "outputs": [],
   "source": [
    "def topNManufacturer(df,topn=3):\n",
    "    toNMan = df.loc[:,'Handset Manufacturer'].value_counts()[:topn]\n",
    "    return toNMan"
   ]
  },
  {
   "cell_type": "code",
   "execution_count": null,
   "id": "cc3ff9ec",
   "metadata": {},
   "outputs": [],
   "source": [
    "# Identify the top 3 manufacturer\n",
    "topNManufacturer(UniqueUser,topn=3)"
   ]
  },
  {
   "cell_type": "markdown",
   "id": "7476fb67",
   "metadata": {},
   "source": [
    ">## Identify the top 5 handsets per top 3 handset manufacturer"
   ]
  },
  {
   "cell_type": "code",
   "execution_count": null,
   "id": "d33f93c0",
   "metadata": {},
   "outputs": [],
   "source": [
    "# Function to extract the top n type of handset for the top m manufacturer\n",
    "def topTypeManufact(df=UniqueUser,nmanufact=3,ntype=5):\n",
    "    topNManufact = df.loc[:,'Handset Manufacturer'].value_counts()[:nmanufact]\n",
    "    res = pd.DataFrame(columns=['Manufacturer','Type','Count'])\n",
    "    for manufacturer in topNManufact.index:\n",
    "        temp = df.loc[UniqueUser['Handset Manufacturer']==manufacturer,'Handset Type'].value_counts()[:ntype]\n",
    "        temp = pd.DataFrame({'Manufacturer':[manufacturer]*ntype,'Type':temp.index,'Count':temp.to_list()})\n",
    "        res = pd.concat([res,temp])\n",
    "    return res.reset_index(drop=True)"
   ]
  },
  {
   "cell_type": "code",
   "execution_count": null,
   "id": "c0f73054",
   "metadata": {},
   "outputs": [],
   "source": [
    "# Identify the top 5 handsets per top 3 handset manufacturer\n",
    "topTypeManufact(df=UniqueUser,nmanufact=3,ntype=5)"
   ]
  },
  {
   "cell_type": "markdown",
   "id": "372e218a",
   "metadata": {},
   "source": [
    ">## Task 1.1: Get an overview of the users’ behavior on those applications"
   ]
  },
  {
   "cell_type": "code",
   "execution_count": null,
   "id": "fd280666",
   "metadata": {},
   "outputs": [],
   "source": [
    "df[['IMSI','Bearer Id']].groupby(\"IMSI\").count()"
   ]
  },
  {
   "cell_type": "code",
   "execution_count": null,
   "id": "a7f66802",
   "metadata": {},
   "outputs": [],
   "source": [
    "df[['IMSI','Dur. (ms)']].groupby(\"IMSI\").sum()"
   ]
  },
  {
   "cell_type": "code",
   "execution_count": null,
   "id": "73137d62",
   "metadata": {},
   "outputs": [],
   "source": [
    "df[['IMSI','Total UL (Bytes)','Total DL (Bytes)']].groupby(\"IMSI\").sum()"
   ]
  },
  {
   "cell_type": "code",
   "execution_count": null,
   "id": "819d9281",
   "metadata": {},
   "outputs": [],
   "source": [
    "test1 = pd.Series(df[['IMSI','Total UL (Bytes)','Total DL (Bytes)']].groupby(\"IMSI\").sum().sum(axis=1),name=\"Total\")"
   ]
  },
  {
   "cell_type": "code",
   "execution_count": null,
   "id": "cd0dbd6c",
   "metadata": {},
   "outputs": [],
   "source": [
    "test2 = pd.Series(df[['IMSI','Google UL (Bytes)','Google DL (Bytes)']].groupby(\"IMSI\").sum().sum(axis=1),name=\"Google\")"
   ]
  },
  {
   "cell_type": "code",
   "execution_count": null,
   "id": "2c9d6106",
   "metadata": {},
   "outputs": [],
   "source": [
    "merge_test =pd.merge(test1,test2,left_index=True,right_index=True,validate=\"one_to_one\")\n",
    "merge_test"
   ]
  },
  {
   "cell_type": "code",
   "execution_count": 4,
   "id": "aeb2a5bd",
   "metadata": {},
   "outputs": [],
   "source": [
    "dfData = df.loc[:,['IMSI','Social Media DL (Bytes)','Social Media UL (Bytes)',\n",
    "                                  'Google DL (Bytes)', 'Google UL (Bytes)', 'Email DL (Bytes)',\n",
    "                                  'Email UL (Bytes)', 'Youtube DL (Bytes)', 'Youtube UL (Bytes)',\n",
    "                                  'Netflix DL (Bytes)', 'Netflix UL (Bytes)', 'Gaming DL (Bytes)',\n",
    "                                  'Gaming UL (Bytes)', 'Other DL (Bytes)', 'Other UL (Bytes)',\n",
    "                                  'Total UL (Bytes)', 'Total DL (Bytes)']]"
   ]
  },
  {
   "cell_type": "code",
   "execution_count": 5,
   "id": "c80a34b5",
   "metadata": {},
   "outputs": [],
   "source": [
    "DataByte = extract_data(dfData)"
   ]
  },
  {
   "cell_type": "code",
   "execution_count": 6,
   "id": "7d06b989",
   "metadata": {},
   "outputs": [
    {
     "name": "stdout",
     "output_type": "stream",
     "text": [
      "['Social Media DL (Bytes)', 'Social Media UL (Bytes)', 'IMSI']\n"
     ]
    },
    {
     "data": {
      "text/html": [
       "<div>\n",
       "<style scoped>\n",
       "    .dataframe tbody tr th:only-of-type {\n",
       "        vertical-align: middle;\n",
       "    }\n",
       "\n",
       "    .dataframe tbody tr th {\n",
       "        vertical-align: top;\n",
       "    }\n",
       "\n",
       "    .dataframe thead th {\n",
       "        text-align: right;\n",
       "    }\n",
       "</style>\n",
       "<table border=\"1\" class=\"dataframe\">\n",
       "  <thead>\n",
       "    <tr style=\"text-align: right;\">\n",
       "      <th></th>\n",
       "      <th>Social Media</th>\n",
       "      <th>Google</th>\n",
       "      <th>Email</th>\n",
       "      <th>Youtube</th>\n",
       "      <th>Gaming</th>\n",
       "      <th>Other</th>\n",
       "    </tr>\n",
       "    <tr>\n",
       "      <th>IMSI</th>\n",
       "      <th></th>\n",
       "      <th></th>\n",
       "      <th></th>\n",
       "      <th></th>\n",
       "      <th></th>\n",
       "      <th></th>\n",
       "    </tr>\n",
       "  </thead>\n",
       "  <tbody>\n",
       "    <tr>\n",
       "      <th>2.040471e+14</th>\n",
       "      <td>1546088.0</td>\n",
       "      <td>9218647.0</td>\n",
       "      <td>3330974.0</td>\n",
       "      <td>40940710.0</td>\n",
       "      <td>43070260.0</td>\n",
       "      <td>4.013605e+08</td>\n",
       "    </tr>\n",
       "    <tr>\n",
       "      <th>2.040808e+14</th>\n",
       "      <td>715224.0</td>\n",
       "      <td>10438660.0</td>\n",
       "      <td>1520771.0</td>\n",
       "      <td>11959905.0</td>\n",
       "      <td>178048738.0</td>\n",
       "      <td>4.705265e+08</td>\n",
       "    </tr>\n",
       "    <tr>\n",
       "      <th>2.082001e+14</th>\n",
       "      <td>3122781.0</td>\n",
       "      <td>1624662.0</td>\n",
       "      <td>3657501.0</td>\n",
       "      <td>19882439.0</td>\n",
       "      <td>9124516.0</td>\n",
       "      <td>5.159737e+08</td>\n",
       "    </tr>\n",
       "    <tr>\n",
       "      <th>2.082001e+14</th>\n",
       "      <td>2577104.0</td>\n",
       "      <td>13811478.0</td>\n",
       "      <td>3855734.0</td>\n",
       "      <td>25657632.0</td>\n",
       "      <td>344105897.0</td>\n",
       "      <td>3.096107e+08</td>\n",
       "    </tr>\n",
       "    <tr>\n",
       "      <th>2.082001e+14</th>\n",
       "      <td>3426716.0</td>\n",
       "      <td>11665887.0</td>\n",
       "      <td>5564462.0</td>\n",
       "      <td>13840201.0</td>\n",
       "      <td>917684766.0</td>\n",
       "      <td>1.079435e+09</td>\n",
       "    </tr>\n",
       "    <tr>\n",
       "      <th>...</th>\n",
       "      <td>...</td>\n",
       "      <td>...</td>\n",
       "      <td>...</td>\n",
       "      <td>...</td>\n",
       "      <td>...</td>\n",
       "      <td>...</td>\n",
       "    </tr>\n",
       "    <tr>\n",
       "      <th>2.082099e+14</th>\n",
       "      <td>1256603.0</td>\n",
       "      <td>12047606.0</td>\n",
       "      <td>956312.0</td>\n",
       "      <td>11621474.0</td>\n",
       "      <td>678493990.0</td>\n",
       "      <td>5.883943e+08</td>\n",
       "    </tr>\n",
       "    <tr>\n",
       "      <th>2.082099e+14</th>\n",
       "      <td>3465755.0</td>\n",
       "      <td>4287813.0</td>\n",
       "      <td>2284566.0</td>\n",
       "      <td>34857460.0</td>\n",
       "      <td>411382679.0</td>\n",
       "      <td>7.526239e+08</td>\n",
       "    </tr>\n",
       "    <tr>\n",
       "      <th>2.082099e+14</th>\n",
       "      <td>2609666.0</td>\n",
       "      <td>4427934.0</td>\n",
       "      <td>1717645.0</td>\n",
       "      <td>29190696.0</td>\n",
       "      <td>272046636.0</td>\n",
       "      <td>4.567354e+08</td>\n",
       "    </tr>\n",
       "    <tr>\n",
       "      <th>2.082522e+14</th>\n",
       "      <td>667081.0</td>\n",
       "      <td>2227505.0</td>\n",
       "      <td>3054624.0</td>\n",
       "      <td>24909498.0</td>\n",
       "      <td>788569459.0</td>\n",
       "      <td>5.944805e+08</td>\n",
       "    </tr>\n",
       "    <tr>\n",
       "      <th>2.140743e+14</th>\n",
       "      <td>2316254.0</td>\n",
       "      <td>3059291.0</td>\n",
       "      <td>1466516.0</td>\n",
       "      <td>40017722.0</td>\n",
       "      <td>622972742.0</td>\n",
       "      <td>5.385547e+08</td>\n",
       "    </tr>\n",
       "  </tbody>\n",
       "</table>\n",
       "<p>107265 rows × 6 columns</p>\n",
       "</div>"
      ],
      "text/plain": [
       "              Social Media      Google      Email     Youtube       Gaming  \\\n",
       "IMSI                                                                         \n",
       "2.040471e+14     1546088.0   9218647.0  3330974.0  40940710.0   43070260.0   \n",
       "2.040808e+14      715224.0  10438660.0  1520771.0  11959905.0  178048738.0   \n",
       "2.082001e+14     3122781.0   1624662.0  3657501.0  19882439.0    9124516.0   \n",
       "2.082001e+14     2577104.0  13811478.0  3855734.0  25657632.0  344105897.0   \n",
       "2.082001e+14     3426716.0  11665887.0  5564462.0  13840201.0  917684766.0   \n",
       "...                    ...         ...        ...         ...          ...   \n",
       "2.082099e+14     1256603.0  12047606.0   956312.0  11621474.0  678493990.0   \n",
       "2.082099e+14     3465755.0   4287813.0  2284566.0  34857460.0  411382679.0   \n",
       "2.082099e+14     2609666.0   4427934.0  1717645.0  29190696.0  272046636.0   \n",
       "2.082522e+14      667081.0   2227505.0  3054624.0  24909498.0  788569459.0   \n",
       "2.140743e+14     2316254.0   3059291.0  1466516.0  40017722.0  622972742.0   \n",
       "\n",
       "                     Other  \n",
       "IMSI                        \n",
       "2.040471e+14  4.013605e+08  \n",
       "2.040808e+14  4.705265e+08  \n",
       "2.082001e+14  5.159737e+08  \n",
       "2.082001e+14  3.096107e+08  \n",
       "2.082001e+14  1.079435e+09  \n",
       "...                    ...  \n",
       "2.082099e+14  5.883943e+08  \n",
       "2.082099e+14  7.526239e+08  \n",
       "2.082099e+14  4.567354e+08  \n",
       "2.082522e+14  5.944805e+08  \n",
       "2.140743e+14  5.385547e+08  \n",
       "\n",
       "[107265 rows x 6 columns]"
      ]
     },
     "execution_count": 6,
     "metadata": {},
     "output_type": "execute_result"
    }
   ],
   "source": [
    "DataByte.merge_data('IMSI')"
   ]
  },
  {
   "cell_type": "code",
   "execution_count": null,
   "id": "c663b1d7",
   "metadata": {},
   "outputs": [],
   "source": [
    "DataByte.df.groupby(\"IMSI\").sum(1)"
   ]
  },
  {
   "cell_type": "code",
   "execution_count": null,
   "id": "55f6d520",
   "metadata": {},
   "outputs": [],
   "source": [
    "SocialMediaCol = [col for col in dfData.columns if 'Social Media' in col]\n",
    "SocialMediaCol.append(\"IMSI\")\n",
    "print(SocialMediaCol)"
   ]
  },
  {
   "cell_type": "code",
   "execution_count": null,
   "id": "e7490ab3",
   "metadata": {},
   "outputs": [],
   "source": [
    "dfData[SocialMediaCol].groupby(\"IMSI\").sum()"
   ]
  },
  {
   "cell_type": "code",
   "execution_count": null,
   "id": "f60296ff",
   "metadata": {},
   "outputs": [],
   "source": [
    "df.iloc[:,39:55].columns.to_list()"
   ]
  },
  {
   "cell_type": "code",
   "execution_count": null,
   "id": "cfee1b91",
   "metadata": {},
   "outputs": [],
   "source": [
    "df.dropna()"
   ]
  },
  {
   "cell_type": "code",
   "execution_count": null,
   "id": "e93f3b99",
   "metadata": {},
   "outputs": [],
   "source": [
    "np.sum()"
   ]
  }
 ],
 "metadata": {
  "kernelspec": {
   "display_name": "Python 3",
   "language": "python",
   "name": "python3"
  },
  "language_info": {
   "codemirror_mode": {
    "name": "ipython",
    "version": 3
   },
   "file_extension": ".py",
   "mimetype": "text/x-python",
   "name": "python",
   "nbconvert_exporter": "python",
   "pygments_lexer": "ipython3",
   "version": "3.8.8"
  }
 },
 "nbformat": 4,
 "nbformat_minor": 5
}
