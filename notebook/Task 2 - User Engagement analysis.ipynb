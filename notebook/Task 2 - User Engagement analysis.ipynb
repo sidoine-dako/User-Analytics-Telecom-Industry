{
 "cells": [
  {
   "cell_type": "markdown",
   "id": "9bef140f",
   "metadata": {},
   "source": [
    "# TASK 2: User Engagement analysis"
   ]
  },
  {
   "cell_type": "markdown",
   "id": "e539dcee",
   "metadata": {},
   "source": [
    "The aim of this notebook is to analyze the engagement of the users. By doing this will see how engage the user are towards the services of the TellCo company.\n",
    "This will result in building & improving the Quality of Service (QoS) to leverage the mobile platforms and to get more users for the business.</br>\n",
    "For this task, we are called to to track the user’s engagement using the following engagement metrics: \n",
    "* sessions frequency \n",
    "* the duration of the session \n",
    "* the sessions total traffic (download and upload (bytes))"
   ]
  },
  {
   "cell_type": "code",
   "execution_count": 1,
   "id": "2b377503",
   "metadata": {},
   "outputs": [],
   "source": [
    "# Importation of the libraries\n",
    "import pandas as pd\n",
    "import numpy as np\n",
    "import matplotlib.pyplot as plt\n",
    "import seaborn as sns\n",
    "import plotly.express as px\n",
    "\n",
    "import warnings\n",
    "warnings.filterwarnings('ignore')"
   ]
  },
  {
   "cell_type": "code",
   "execution_count": 2,
   "id": "e61b9c9a",
   "metadata": {},
   "outputs": [],
   "source": [
    "import sys\n",
    "sys.path.append('../scripts')\n",
    "from Extract_data import extract_data"
   ]
  },
  {
   "cell_type": "code",
   "execution_count": 3,
   "id": "3683402b",
   "metadata": {},
   "outputs": [
    {
     "name": "stdout",
     "output_type": "stream",
     "text": [
      "<class 'pandas.core.frame.DataFrame'>\n",
      "RangeIndex: 150001 entries, 0 to 150000\n",
      "Data columns (total 55 columns):\n",
      " #   Column                                    Non-Null Count   Dtype  \n",
      "---  ------                                    --------------   -----  \n",
      " 0   Bearer Id                                 149010 non-null  float64\n",
      " 1   Start                                     150000 non-null  object \n",
      " 2   Start ms                                  150001 non-null  float64\n",
      " 3   End                                       150000 non-null  object \n",
      " 4   End ms                                    150001 non-null  float64\n",
      " 5   Dur. (s)                                  150001 non-null  float64\n",
      " 6   IMSI                                      149431 non-null  float64\n",
      " 7   MSISDN/Number                             148935 non-null  float64\n",
      " 8   IMEI                                      149429 non-null  float64\n",
      " 9   Last Location Name                        148848 non-null  object \n",
      " 10  Avg RTT DL (ms)                           150001 non-null  float64\n",
      " 11  Avg RTT UL (ms)                           150001 non-null  float64\n",
      " 12  Avg Bearer TP DL (kbps)                   150001 non-null  float64\n",
      " 13  Avg Bearer TP UL (kbps)                   150001 non-null  float64\n",
      " 14  TCP DL Retrans. Vol (Bytes)               150001 non-null  float64\n",
      " 15  TCP UL Retrans. Vol (Bytes)               150001 non-null  float64\n",
      " 16  DL TP < 50 Kbps (%)                       150001 non-null  float64\n",
      " 17  50 Kbps < DL TP < 250 Kbps (%)            150001 non-null  float64\n",
      " 18  250 Kbps < DL TP < 1 Mbps (%)             150001 non-null  float64\n",
      " 19  DL TP > 1 Mbps (%)                        150001 non-null  float64\n",
      " 20  UL TP < 10 Kbps (%)                       150001 non-null  float64\n",
      " 21  10 Kbps < UL TP < 50 Kbps (%)             150001 non-null  float64\n",
      " 22  50 Kbps < UL TP < 300 Kbps (%)            150001 non-null  float64\n",
      " 23  UL TP > 300 Kbps (%)                      150001 non-null  float64\n",
      " 24  HTTP DL (Bytes)                           150001 non-null  float64\n",
      " 25  HTTP UL (Bytes)                           150001 non-null  float64\n",
      " 26  Activity Duration DL (ms)                 150001 non-null  float64\n",
      " 27  Activity Duration UL (ms)                 150001 non-null  float64\n",
      " 28  Dur. (ms).1                               150001 non-null  float64\n",
      " 29  Handset Manufacturer                      149429 non-null  object \n",
      " 30  Handset Type                              149429 non-null  object \n",
      " 31  Nb of sec with 125000B < Vol DL           150001 non-null  float64\n",
      " 32  Nb of sec with 1250B < Vol UL < 6250B     150001 non-null  float64\n",
      " 33  Nb of sec with 31250B < Vol DL < 125000B  150001 non-null  float64\n",
      " 34  Nb of sec with 37500B < Vol UL            150001 non-null  float64\n",
      " 35  Nb of sec with 6250B < Vol DL < 31250B    150001 non-null  float64\n",
      " 36  Nb of sec with 6250B < Vol UL < 37500B    150001 non-null  float64\n",
      " 37  Nb of sec with Vol DL < 6250B             150001 non-null  float64\n",
      " 38  Nb of sec with Vol UL < 1250B             150001 non-null  float64\n",
      " 39  Social Media DL (Bytes)                   150001 non-null  float64\n",
      " 40  Social Media UL (Bytes)                   150001 non-null  float64\n",
      " 41  Google DL (Bytes)                         150001 non-null  float64\n",
      " 42  Google UL (Bytes)                         150001 non-null  float64\n",
      " 43  Email DL (Bytes)                          150001 non-null  float64\n",
      " 44  Email UL (Bytes)                          150001 non-null  float64\n",
      " 45  Youtube DL (Bytes)                        150001 non-null  float64\n",
      " 46  Youtube UL (Bytes)                        150001 non-null  float64\n",
      " 47  Netflix DL (Bytes)                        150001 non-null  float64\n",
      " 48  Netflix UL (Bytes)                        150001 non-null  float64\n",
      " 49  Gaming DL (Bytes)                         150001 non-null  float64\n",
      " 50  Gaming UL (Bytes)                         150001 non-null  float64\n",
      " 51  Other DL (Bytes)                          150001 non-null  float64\n",
      " 52  Other UL (Bytes)                          150001 non-null  float64\n",
      " 53  Total UL (Bytes)                          150001 non-null  float64\n",
      " 54  Total DL (Bytes)                          150001 non-null  float64\n",
      "dtypes: float64(50), object(5)\n",
      "memory usage: 62.9+ MB\n"
     ]
    }
   ],
   "source": [
    "# Import the dataset\n",
    "df = pd.read_csv(\"../data/Cleaned_Data.csv\")\n",
    "df.info()"
   ]
  },
  {
   "cell_type": "markdown",
   "id": "09ee419a",
   "metadata": {},
   "source": [
    "Let's extract the important variables to perform this task. The imported dataset has already been cleaned and the cleaning process can be found in the notebook [here](Data_Preprocessing.ipynb)."
   ]
  },
  {
   "cell_type": "code",
   "execution_count": 23,
   "id": "df531cbd",
   "metadata": {},
   "outputs": [
    {
     "data": {
      "text/plain": [
       "106857"
      ]
     },
     "execution_count": 23,
     "metadata": {},
     "output_type": "execute_result"
    }
   ],
   "source": [
    "# Extract the important variables for the task 2\n",
    "dfTask2 = df[['MSISDN/Number','Bearer Id','Dur. (s)','Total UL (Bytes)','Total DL (Bytes)']]\n",
    "dfTask2[['MSISDN/Number','Bearer Id']] = dfTask2[['MSISDN/Number','Bearer Id']].astype(str)\n",
    "dfTask2.head(5)"
   ]
  },
  {
   "cell_type": "markdown",
   "id": "fe6109ad",
   "metadata": {},
   "source": [
    ">## Task 2.1"
   ]
  },
  {
   "cell_type": "markdown",
   "id": "e286b556",
   "metadata": {},
   "source": [
    "### Aggregate the metrics per customer id (MSISDN)\n",
    "To do so, we'll use a module we wrote in the script [Extract_data.py](..\\scripts\\Extract_data.py)"
   ]
  },
  {
   "cell_type": "code",
   "execution_count": 22,
   "id": "fce334b8",
   "metadata": {},
   "outputs": [
    {
     "data": {
      "text/plain": [
       "106857"
      ]
     },
     "execution_count": 22,
     "metadata": {},
     "output_type": "execute_result"
    }
   ],
   "source": [
    "dfForAgg = extract_data(dfTask2)\n",
    "# Aggregated sessions frequency\n",
    "AggSession = dfForAgg.extract_Session('MSISDN/Number')\n",
    "# Aggregated duration\n",
    "AggDur = dfForAgg.sum_duration('MSISDN/Number')\n",
    "# Aggregated duration\n",
    "AggTotal = dfForAgg.extract_Total('MSISDN/Number')\n",
    "# Merge the three metrics per user\n",
    "import functools as ft\n",
    "dfEachAgg = [AggSession,AggDur,AggTotal]\n",
    "dfAgg = ft.reduce(lambda left,right: pd.merge(left,right,left_index=True,right_index=True,\n",
    "        validate=\"one_to_one\"),dfEachAgg)\n",
    "dfAgg.head(5)"
   ]
  }
 ],
 "metadata": {
  "kernelspec": {
   "display_name": "Python 3",
   "language": "python",
   "name": "python3"
  },
  "language_info": {
   "codemirror_mode": {
    "name": "ipython",
    "version": 3
   },
   "file_extension": ".py",
   "mimetype": "text/x-python",
   "name": "python",
   "nbconvert_exporter": "python",
   "pygments_lexer": "ipython3",
   "version": "3.8.8"
  }
 },
 "nbformat": 4,
 "nbformat_minor": 5
}
