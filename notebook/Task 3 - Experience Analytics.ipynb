{
 "cells": [
  {
   "cell_type": "markdown",
   "id": "a485fa19",
   "metadata": {},
   "source": [
    "# Task 3 - Experience Analytics"
   ]
  },
  {
   "cell_type": "markdown",
   "id": "a6760215",
   "metadata": {},
   "source": [
    "In this notebook, we want to evaluate the user experience of the customer"
   ]
  },
  {
   "cell_type": "code",
   "execution_count": 14,
   "id": "b44a18ff",
   "metadata": {},
   "outputs": [],
   "source": [
    "# Importation of the libraries\n",
    "import pandas as pd\n",
    "import numpy as np\n",
    "import matplotlib.pyplot as plt\n",
    "import seaborn as sns\n",
    "import plotly.express as px\n",
    "\n",
    "import warnings\n",
    "warnings.filterwarnings('ignore')"
   ]
  },
  {
   "cell_type": "code",
   "execution_count": 15,
   "id": "2ceb0bb6",
   "metadata": {},
   "outputs": [
    {
     "name": "stdout",
     "output_type": "stream",
     "text": [
      "<class 'pandas.core.frame.DataFrame'>\n",
      "RangeIndex: 150001 entries, 0 to 150000\n",
      "Data columns (total 55 columns):\n",
      " #   Column                                    Non-Null Count   Dtype  \n",
      "---  ------                                    --------------   -----  \n",
      " 0   Bearer Id                                 149010 non-null  float64\n",
      " 1   Start                                     150000 non-null  object \n",
      " 2   Start ms                                  150001 non-null  float64\n",
      " 3   End                                       150000 non-null  object \n",
      " 4   End ms                                    150001 non-null  float64\n",
      " 5   Dur. (s)                                  150001 non-null  float64\n",
      " 6   IMSI                                      149431 non-null  float64\n",
      " 7   MSISDN/Number                             148935 non-null  float64\n",
      " 8   IMEI                                      149429 non-null  float64\n",
      " 9   Last Location Name                        148848 non-null  object \n",
      " 10  Avg RTT DL (ms)                           150001 non-null  float64\n",
      " 11  Avg RTT UL (ms)                           150001 non-null  float64\n",
      " 12  Avg Bearer TP DL (kbps)                   150001 non-null  float64\n",
      " 13  Avg Bearer TP UL (kbps)                   150001 non-null  float64\n",
      " 14  TCP DL Retrans. Vol (Bytes)               150001 non-null  float64\n",
      " 15  TCP UL Retrans. Vol (Bytes)               150001 non-null  float64\n",
      " 16  DL TP < 50 Kbps (%)                       150001 non-null  float64\n",
      " 17  50 Kbps < DL TP < 250 Kbps (%)            150001 non-null  float64\n",
      " 18  250 Kbps < DL TP < 1 Mbps (%)             150001 non-null  float64\n",
      " 19  DL TP > 1 Mbps (%)                        150001 non-null  float64\n",
      " 20  UL TP < 10 Kbps (%)                       150001 non-null  float64\n",
      " 21  10 Kbps < UL TP < 50 Kbps (%)             150001 non-null  float64\n",
      " 22  50 Kbps < UL TP < 300 Kbps (%)            150001 non-null  float64\n",
      " 23  UL TP > 300 Kbps (%)                      150001 non-null  float64\n",
      " 24  HTTP DL (Bytes)                           150001 non-null  float64\n",
      " 25  HTTP UL (Bytes)                           150001 non-null  float64\n",
      " 26  Activity Duration DL (ms)                 150001 non-null  float64\n",
      " 27  Activity Duration UL (ms)                 150001 non-null  float64\n",
      " 28  Dur. (ms).1                               150001 non-null  float64\n",
      " 29  Handset Manufacturer                      140442 non-null  object \n",
      " 30  Handset Type                              140442 non-null  object \n",
      " 31  Nb of sec with 125000B < Vol DL           150001 non-null  float64\n",
      " 32  Nb of sec with 1250B < Vol UL < 6250B     150001 non-null  float64\n",
      " 33  Nb of sec with 31250B < Vol DL < 125000B  150001 non-null  float64\n",
      " 34  Nb of sec with 37500B < Vol UL            150001 non-null  float64\n",
      " 35  Nb of sec with 6250B < Vol DL < 31250B    150001 non-null  float64\n",
      " 36  Nb of sec with 6250B < Vol UL < 37500B    150001 non-null  float64\n",
      " 37  Nb of sec with Vol DL < 6250B             150001 non-null  float64\n",
      " 38  Nb of sec with Vol UL < 1250B             150001 non-null  float64\n",
      " 39  Social Media DL (Bytes)                   150001 non-null  float64\n",
      " 40  Social Media UL (Bytes)                   150001 non-null  float64\n",
      " 41  Google DL (Bytes)                         150001 non-null  float64\n",
      " 42  Google UL (Bytes)                         150001 non-null  float64\n",
      " 43  Email DL (Bytes)                          150001 non-null  float64\n",
      " 44  Email UL (Bytes)                          150001 non-null  float64\n",
      " 45  Youtube DL (Bytes)                        150001 non-null  float64\n",
      " 46  Youtube UL (Bytes)                        150001 non-null  float64\n",
      " 47  Netflix DL (Bytes)                        150001 non-null  float64\n",
      " 48  Netflix UL (Bytes)                        150001 non-null  float64\n",
      " 49  Gaming DL (Bytes)                         150001 non-null  float64\n",
      " 50  Gaming UL (Bytes)                         150001 non-null  float64\n",
      " 51  Other DL (Bytes)                          150001 non-null  float64\n",
      " 52  Other UL (Bytes)                          150001 non-null  float64\n",
      " 53  Total UL (Bytes)                          150001 non-null  float64\n",
      " 54  Total DL (Bytes)                          150001 non-null  float64\n",
      "dtypes: float64(50), object(5)\n",
      "memory usage: 62.9+ MB\n"
     ]
    }
   ],
   "source": [
    "# Import the dataset\n",
    "df = pd.read_csv(\"../data/Cleaned_Data.csv\",na_values=['undefined',None])\n",
    "df.info()"
   ]
  },
  {
   "cell_type": "code",
   "execution_count": 16,
   "id": "b8d336f3",
   "metadata": {},
   "outputs": [
    {
     "data": {
      "text/html": [
       "<div>\n",
       "<style scoped>\n",
       "    .dataframe tbody tr th:only-of-type {\n",
       "        vertical-align: middle;\n",
       "    }\n",
       "\n",
       "    .dataframe tbody tr th {\n",
       "        vertical-align: top;\n",
       "    }\n",
       "\n",
       "    .dataframe thead th {\n",
       "        text-align: right;\n",
       "    }\n",
       "</style>\n",
       "<table border=\"1\" class=\"dataframe\">\n",
       "  <thead>\n",
       "    <tr style=\"text-align: right;\">\n",
       "      <th></th>\n",
       "      <th>MSISDN/Number</th>\n",
       "      <th>Avg RTT DL (ms)</th>\n",
       "      <th>Avg RTT UL (ms)</th>\n",
       "      <th>Avg Bearer TP DL (kbps)</th>\n",
       "      <th>Avg Bearer TP UL (kbps)</th>\n",
       "      <th>TCP DL Retrans. Vol (Bytes)</th>\n",
       "      <th>TCP UL Retrans. Vol (Bytes)</th>\n",
       "      <th>DL TP &lt; 50 Kbps (%)</th>\n",
       "      <th>50 Kbps &lt; DL TP &lt; 250 Kbps (%)</th>\n",
       "      <th>250 Kbps &lt; DL TP &lt; 1 Mbps (%)</th>\n",
       "      <th>DL TP &gt; 1 Mbps (%)</th>\n",
       "      <th>UL TP &lt; 10 Kbps (%)</th>\n",
       "      <th>10 Kbps &lt; UL TP &lt; 50 Kbps (%)</th>\n",
       "      <th>50 Kbps &lt; UL TP &lt; 300 Kbps (%)</th>\n",
       "      <th>UL TP &gt; 300 Kbps (%)</th>\n",
       "      <th>Handset Type</th>\n",
       "    </tr>\n",
       "  </thead>\n",
       "  <tbody>\n",
       "    <tr>\n",
       "      <th>0</th>\n",
       "      <td>33664962239.0</td>\n",
       "      <td>42.0</td>\n",
       "      <td>5.0</td>\n",
       "      <td>23.0</td>\n",
       "      <td>44.0</td>\n",
       "      <td>568730.0</td>\n",
       "      <td>20949.5</td>\n",
       "      <td>100.0</td>\n",
       "      <td>0.0</td>\n",
       "      <td>0.0</td>\n",
       "      <td>0.0</td>\n",
       "      <td>100.0</td>\n",
       "      <td>0.0</td>\n",
       "      <td>0.0</td>\n",
       "      <td>0.0</td>\n",
       "      <td>Samsung Galaxy A5 Sm-A520F</td>\n",
       "    </tr>\n",
       "    <tr>\n",
       "      <th>1</th>\n",
       "      <td>33681854413.0</td>\n",
       "      <td>65.0</td>\n",
       "      <td>5.0</td>\n",
       "      <td>16.0</td>\n",
       "      <td>26.0</td>\n",
       "      <td>568730.0</td>\n",
       "      <td>20949.5</td>\n",
       "      <td>100.0</td>\n",
       "      <td>0.0</td>\n",
       "      <td>0.0</td>\n",
       "      <td>0.0</td>\n",
       "      <td>100.0</td>\n",
       "      <td>0.0</td>\n",
       "      <td>0.0</td>\n",
       "      <td>0.0</td>\n",
       "      <td>Samsung Galaxy J5 (Sm-J530)</td>\n",
       "    </tr>\n",
       "    <tr>\n",
       "      <th>2</th>\n",
       "      <td>33760627129.0</td>\n",
       "      <td>45.0</td>\n",
       "      <td>5.0</td>\n",
       "      <td>6.0</td>\n",
       "      <td>9.0</td>\n",
       "      <td>568730.0</td>\n",
       "      <td>20949.5</td>\n",
       "      <td>100.0</td>\n",
       "      <td>0.0</td>\n",
       "      <td>0.0</td>\n",
       "      <td>0.0</td>\n",
       "      <td>100.0</td>\n",
       "      <td>0.0</td>\n",
       "      <td>0.0</td>\n",
       "      <td>0.0</td>\n",
       "      <td>Samsung Galaxy A8 (2018)</td>\n",
       "    </tr>\n",
       "    <tr>\n",
       "      <th>3</th>\n",
       "      <td>33750343200.0</td>\n",
       "      <td>45.0</td>\n",
       "      <td>5.0</td>\n",
       "      <td>44.0</td>\n",
       "      <td>44.0</td>\n",
       "      <td>568730.0</td>\n",
       "      <td>20949.5</td>\n",
       "      <td>100.0</td>\n",
       "      <td>0.0</td>\n",
       "      <td>0.0</td>\n",
       "      <td>0.0</td>\n",
       "      <td>100.0</td>\n",
       "      <td>0.0</td>\n",
       "      <td>0.0</td>\n",
       "      <td>0.0</td>\n",
       "      <td>NaN</td>\n",
       "    </tr>\n",
       "    <tr>\n",
       "      <th>4</th>\n",
       "      <td>33699795932.0</td>\n",
       "      <td>45.0</td>\n",
       "      <td>5.0</td>\n",
       "      <td>6.0</td>\n",
       "      <td>9.0</td>\n",
       "      <td>568730.0</td>\n",
       "      <td>20949.5</td>\n",
       "      <td>100.0</td>\n",
       "      <td>0.0</td>\n",
       "      <td>0.0</td>\n",
       "      <td>0.0</td>\n",
       "      <td>100.0</td>\n",
       "      <td>0.0</td>\n",
       "      <td>0.0</td>\n",
       "      <td>0.0</td>\n",
       "      <td>Samsung Sm-G390F</td>\n",
       "    </tr>\n",
       "  </tbody>\n",
       "</table>\n",
       "</div>"
      ],
      "text/plain": [
       "   MSISDN/Number  Avg RTT DL (ms)  Avg RTT UL (ms)  Avg Bearer TP DL (kbps)  \\\n",
       "0  33664962239.0             42.0              5.0                     23.0   \n",
       "1  33681854413.0             65.0              5.0                     16.0   \n",
       "2  33760627129.0             45.0              5.0                      6.0   \n",
       "3  33750343200.0             45.0              5.0                     44.0   \n",
       "4  33699795932.0             45.0              5.0                      6.0   \n",
       "\n",
       "   Avg Bearer TP UL (kbps)  TCP DL Retrans. Vol (Bytes)  \\\n",
       "0                     44.0                     568730.0   \n",
       "1                     26.0                     568730.0   \n",
       "2                      9.0                     568730.0   \n",
       "3                     44.0                     568730.0   \n",
       "4                      9.0                     568730.0   \n",
       "\n",
       "   TCP UL Retrans. Vol (Bytes)  DL TP < 50 Kbps (%)  \\\n",
       "0                      20949.5                100.0   \n",
       "1                      20949.5                100.0   \n",
       "2                      20949.5                100.0   \n",
       "3                      20949.5                100.0   \n",
       "4                      20949.5                100.0   \n",
       "\n",
       "   50 Kbps < DL TP < 250 Kbps (%)  250 Kbps < DL TP < 1 Mbps (%)  \\\n",
       "0                             0.0                            0.0   \n",
       "1                             0.0                            0.0   \n",
       "2                             0.0                            0.0   \n",
       "3                             0.0                            0.0   \n",
       "4                             0.0                            0.0   \n",
       "\n",
       "   DL TP > 1 Mbps (%)  UL TP < 10 Kbps (%)  10 Kbps < UL TP < 50 Kbps (%)  \\\n",
       "0                 0.0                100.0                            0.0   \n",
       "1                 0.0                100.0                            0.0   \n",
       "2                 0.0                100.0                            0.0   \n",
       "3                 0.0                100.0                            0.0   \n",
       "4                 0.0                100.0                            0.0   \n",
       "\n",
       "   50 Kbps < UL TP < 300 Kbps (%)  UL TP > 300 Kbps (%)  \\\n",
       "0                             0.0                   0.0   \n",
       "1                             0.0                   0.0   \n",
       "2                             0.0                   0.0   \n",
       "3                             0.0                   0.0   \n",
       "4                             0.0                   0.0   \n",
       "\n",
       "                  Handset Type  \n",
       "0   Samsung Galaxy A5 Sm-A520F  \n",
       "1  Samsung Galaxy J5 (Sm-J530)  \n",
       "2     Samsung Galaxy A8 (2018)  \n",
       "3                          NaN  \n",
       "4             Samsung Sm-G390F  "
      ]
     },
     "execution_count": 16,
     "metadata": {},
     "output_type": "execute_result"
    }
   ],
   "source": [
    "dfTask3 = df[['MSISDN/Number', 'Avg RTT DL (ms)', 'Avg RTT UL (ms)', \n",
    "           'Avg Bearer TP DL (kbps)', 'Avg Bearer TP UL (kbps)',\n",
    "           'TCP DL Retrans. Vol (Bytes)', 'TCP UL Retrans. Vol (Bytes)',\n",
    "            'DL TP < 50 Kbps (%)', '50 Kbps < DL TP < 250 Kbps (%)',\n",
    "                '250 Kbps < DL TP < 1 Mbps (%)', 'DL TP > 1 Mbps (%)',\n",
    "                'UL TP < 10 Kbps (%)', '10 Kbps < UL TP < 50 Kbps (%)',\n",
    "                '50 Kbps < UL TP < 300 Kbps (%)', 'UL TP > 300 Kbps (%)',            \n",
    "           'Handset Type']]\n",
    "dfTask3[['MSISDN/Number']] = dfTask3[['MSISDN/Number']].astype(str).replace('nan',np.nan)\n",
    "dfTask3.head(5)"
   ]
  },
  {
   "cell_type": "code",
   "execution_count": 17,
   "id": "7e3bd732",
   "metadata": {},
   "outputs": [],
   "source": [
    "# Function to calculate missing values by column\n",
    "def missing_values_table(df):\n",
    "    # Total missing values\n",
    "    mis_val = df.isnull().sum()\n",
    "\n",
    "    # Percentage of missing values\n",
    "    mis_val_percent = 100 * df.isnull().sum() / len(df)\n",
    "\n",
    "    # dtype of missing values\n",
    "    mis_val_dtype = df.dtypes\n",
    "\n",
    "    # Make a table with the results\n",
    "    mis_val_table = pd.concat([mis_val, mis_val_percent, mis_val_dtype], axis=1)\n",
    "\n",
    "    # Rename the columns\n",
    "    mis_val_table_ren_columns = mis_val_table.rename(\n",
    "    columns = {0 : 'Missing Values', 1 : '% of Total Values', 2: 'Dtype'})\n",
    "\n",
    "    # Sort the table by percentage of missing descending\n",
    "    mis_val_table_ren_columns = mis_val_table_ren_columns[\n",
    "        mis_val_table_ren_columns.iloc[:,1] != 0].sort_values(\n",
    "    '% of Total Values', ascending=False).round(1)\n",
    "\n",
    "    # Print some summary information\n",
    "    print (\"Your selected dataframe has \" + str(df.shape[1]) + \" columns.\\n\"      \n",
    "        \"There are \" + str(mis_val_table_ren_columns.shape[0]) +\n",
    "          \" columns that have missing values.\")\n",
    "\n",
    "    # Return the dataframe with missing information\n",
    "    return mis_val_table_ren_columns"
   ]
  },
  {
   "cell_type": "code",
   "execution_count": 30,
   "id": "49bef1cb",
   "metadata": {},
   "outputs": [
    {
     "name": "stdout",
     "output_type": "stream",
     "text": [
      "Your selected dataframe has 19 columns.\n",
      "There are 2 columns that have missing values.\n"
     ]
    },
    {
     "data": {
      "text/html": [
       "<div>\n",
       "<style scoped>\n",
       "    .dataframe tbody tr th:only-of-type {\n",
       "        vertical-align: middle;\n",
       "    }\n",
       "\n",
       "    .dataframe tbody tr th {\n",
       "        vertical-align: top;\n",
       "    }\n",
       "\n",
       "    .dataframe thead th {\n",
       "        text-align: right;\n",
       "    }\n",
       "</style>\n",
       "<table border=\"1\" class=\"dataframe\">\n",
       "  <thead>\n",
       "    <tr style=\"text-align: right;\">\n",
       "      <th></th>\n",
       "      <th>Missing Values</th>\n",
       "      <th>% of Total Values</th>\n",
       "      <th>Dtype</th>\n",
       "    </tr>\n",
       "  </thead>\n",
       "  <tbody>\n",
       "    <tr>\n",
       "      <th>Handset Type</th>\n",
       "      <td>9559</td>\n",
       "      <td>6.4</td>\n",
       "      <td>object</td>\n",
       "    </tr>\n",
       "    <tr>\n",
       "      <th>MSISDN/Number</th>\n",
       "      <td>1066</td>\n",
       "      <td>0.7</td>\n",
       "      <td>object</td>\n",
       "    </tr>\n",
       "  </tbody>\n",
       "</table>\n",
       "</div>"
      ],
      "text/plain": [
       "               Missing Values  % of Total Values   Dtype\n",
       "Handset Type             9559                6.4  object\n",
       "MSISDN/Number            1066                0.7  object"
      ]
     },
     "execution_count": 30,
     "metadata": {},
     "output_type": "execute_result"
    }
   ],
   "source": [
    "# Check for missing values\n",
    "missing_values_table(dfTask3)"
   ]
  },
  {
   "cell_type": "code",
   "execution_count": 35,
   "id": "c6c2be9f",
   "metadata": {},
   "outputs": [],
   "source": [
    "# Fill NA of handset type with the mode\n",
    "dfTask3['Handset Type'] = dfTask3['Handset Type'].fillna(dfTask3['Handset Type'].mode()[0])"
   ]
  },
  {
   "cell_type": "code",
   "execution_count": 37,
   "id": "6996a81d",
   "metadata": {},
   "outputs": [
    {
     "name": "stdout",
     "output_type": "stream",
     "text": [
      "Your selected dataframe has 19 columns.\n",
      "There are 1 columns that have missing values.\n"
     ]
    },
    {
     "data": {
      "text/html": [
       "<div>\n",
       "<style scoped>\n",
       "    .dataframe tbody tr th:only-of-type {\n",
       "        vertical-align: middle;\n",
       "    }\n",
       "\n",
       "    .dataframe tbody tr th {\n",
       "        vertical-align: top;\n",
       "    }\n",
       "\n",
       "    .dataframe thead th {\n",
       "        text-align: right;\n",
       "    }\n",
       "</style>\n",
       "<table border=\"1\" class=\"dataframe\">\n",
       "  <thead>\n",
       "    <tr style=\"text-align: right;\">\n",
       "      <th></th>\n",
       "      <th>Missing Values</th>\n",
       "      <th>% of Total Values</th>\n",
       "      <th>Dtype</th>\n",
       "    </tr>\n",
       "  </thead>\n",
       "  <tbody>\n",
       "    <tr>\n",
       "      <th>MSISDN/Number</th>\n",
       "      <td>1066</td>\n",
       "      <td>0.7</td>\n",
       "      <td>object</td>\n",
       "    </tr>\n",
       "  </tbody>\n",
       "</table>\n",
       "</div>"
      ],
      "text/plain": [
       "               Missing Values  % of Total Values   Dtype\n",
       "MSISDN/Number            1066                0.7  object"
      ]
     },
     "execution_count": 37,
     "metadata": {},
     "output_type": "execute_result"
    }
   ],
   "source": [
    "missing_values_table(dfTask3)"
   ]
  },
  {
   "cell_type": "code",
   "execution_count": 38,
   "id": "ef2ab069",
   "metadata": {},
   "outputs": [],
   "source": [
    "dfTask3[\"Total TCP\"]=dfTask3['TCP DL Retrans. Vol (Bytes)']+ dfTask3['TCP UL Retrans. Vol (Bytes)']+dfTask3['TCP DL Retrans. Vol (Bytes)']+ dfTask3['TCP UL Retrans. Vol (Bytes)']\n",
    "dfTask3[\"Total RTT\"]=dfTask3['Avg RTT DL (ms)']+dfTask3['Avg RTT UL (ms)']\n",
    "dfTask3[\"Total Throughput\"]=dfTask3['DL TP < 50 Kbps (%)']+dfTask3['50 Kbps < DL TP < 250 Kbps (%)']+dfTask3['250 Kbps < DL TP < 1 Mbps (%)']+dfTask3['DL TP > 1 Mbps (%)']+dfTask3['UL TP < 10 Kbps (%)']+dfTask3['10 Kbps < UL TP < 50 Kbps (%)']+dfTask3['50 Kbps < UL TP < 300 Kbps (%)']+dfTask3['UL TP > 300 Kbps (%)']"
   ]
  },
  {
   "cell_type": "code",
   "execution_count": 42,
   "id": "e46f6845",
   "metadata": {},
   "outputs": [],
   "source": [
    "dfExp = dfTask3.groupby('MSISDN/Number').agg({'Total TCP': 'mean',\n",
    "                                              'Total RTT': 'mean',\n",
    "                                              'Total Throughput': 'mean',\n",
    "                                              'Handset Type': pd.Series.mode})"
   ]
  },
  {
   "cell_type": "code",
   "execution_count": 44,
   "id": "aa086311",
   "metadata": {},
   "outputs": [
    {
     "data": {
      "text/plain": [
       "Index(['Avg TCP', 'Avg RTT', 'Avg Throughput', 'Handset Type'], dtype='object')"
      ]
     },
     "execution_count": 44,
     "metadata": {},
     "output_type": "execute_result"
    }
   ],
   "source": [
    "dfExp.rename(columns={'Total TCP':'Avg TCP','Total RTT':'Avg RTT','Total Throughput':'Avg Throughput'},inplace=True)\n",
    "dfExp.columns"
   ]
  },
  {
   "cell_type": "markdown",
   "id": "c81901e5",
   "metadata": {},
   "source": [
    "## **Task 3.2**"
   ]
  },
  {
   "cell_type": "markdown",
   "id": "a068d4a1",
   "metadata": {},
   "source": [
    "### a.\tTCP values in the dataset"
   ]
  },
  {
   "cell_type": "code",
   "execution_count": 65,
   "id": "851b8c54",
   "metadata": {},
   "outputs": [],
   "source": [
    "def compute_bound(df,column,ntop,ascending=False):\n",
    "    valReturn = df[column].sort_values(ascending=ascending)\n",
    "    return valReturn.head(ntop)\n",
    "\n",
    "def compute_frequent(df,column,ntop):\n",
    "    valReturn = df[column].value_counts()\n",
    "    return valReturn.head(ntop)"
   ]
  },
  {
   "cell_type": "code",
   "execution_count": 66,
   "id": "096a851f",
   "metadata": {},
   "outputs": [
    {
     "data": {
      "text/plain": [
       "MSISDN/Number\n",
       "33626320676.0    21228462.0\n",
       "33614892860.0    20049103.0\n",
       "33625779332.0    20049103.0\n",
       "33659725664.0    18869744.0\n",
       "33760536639.0    17690385.0\n",
       "33675877202.0    17690385.0\n",
       "33667163239.0    15331667.0\n",
       "33627080969.0    14152308.0\n",
       "33604515716.0    14152308.0\n",
       "33786323068.0    14152308.0\n",
       "Name: Avg TCP, dtype: float64"
      ]
     },
     "execution_count": 66,
     "metadata": {},
     "output_type": "execute_result"
    }
   ],
   "source": [
    "# Top 10 AVG TCP\n",
    "compute_bound(dfExp,'Avg TCP',10)"
   ]
  },
  {
   "cell_type": "code",
   "execution_count": 69,
   "id": "9be7b31b",
   "metadata": {},
   "outputs": [
    {
     "data": {
      "text/plain": [
       "MSISDN/Number\n",
       "3197020876596.0    1179359.0\n",
       "33667404293.0      1179359.0\n",
       "33667403569.0      1179359.0\n",
       "33667403521.0      1179359.0\n",
       "33667401844.0      1179359.0\n",
       "33667401521.0      1179359.0\n",
       "33667401080.0      1179359.0\n",
       "33667400826.0      1179359.0\n",
       "33667400634.0      1179359.0\n",
       "33667400078.0      1179359.0\n",
       "Name: Avg TCP, dtype: float64"
      ]
     },
     "execution_count": 69,
     "metadata": {},
     "output_type": "execute_result"
    }
   ],
   "source": [
    "# Bottom 10 AVG TCP\n",
    "compute_bound(dfExp,'Avg TCP',10,ascending=True)"
   ]
  },
  {
   "cell_type": "code",
   "execution_count": 70,
   "id": "1e0a90c9",
   "metadata": {},
   "outputs": [
    {
     "data": {
      "text/plain": [
       "1179359.0     77731\n",
       "2358718.0     21452\n",
       "3538077.0      4422\n",
       "4717436.0      1950\n",
       "5896795.0       938\n",
       "7076154.0       208\n",
       "8255513.0        75\n",
       "9434872.0        34\n",
       "10614231.0       17\n",
       "11793590.0       12\n",
       "Name: Avg TCP, dtype: int64"
      ]
     },
     "execution_count": 70,
     "metadata": {},
     "output_type": "execute_result"
    }
   ],
   "source": [
    "# Bottom 10 most frequent AVG TCP\n",
    "compute_frequent(dfExp,'Avg TCP',10)"
   ]
  },
  {
   "cell_type": "markdown",
   "id": "d1530591",
   "metadata": {},
   "source": [
    "### b.\tRTT values in the dataset"
   ]
  },
  {
   "cell_type": "code",
   "execution_count": 71,
   "id": "bf58ecc2",
   "metadata": {},
   "outputs": [
    {
     "data": {
      "text/plain": [
       "MSISDN/Number\n",
       "33675877202.0    991.0\n",
       "33761268199.0    839.0\n",
       "33659822913.0    830.0\n",
       "33659725664.0    782.0\n",
       "33665530316.0    775.0\n",
       "33760413819.0    767.0\n",
       "33760536639.0    754.0\n",
       "33614892860.0    730.0\n",
       "33604515716.0    708.0\n",
       "33627080969.0    702.0\n",
       "Name: Avg RTT, dtype: float64"
      ]
     },
     "execution_count": 71,
     "metadata": {},
     "output_type": "execute_result"
    }
   ],
   "source": [
    "# Top 10 AVG RTT\n",
    "compute_bound(dfExp,'Avg RTT',10)"
   ]
  },
  {
   "cell_type": "code",
   "execution_count": 72,
   "id": "a9da2f80",
   "metadata": {},
   "outputs": [
    {
     "data": {
      "text/plain": [
       "MSISDN/Number\n",
       "33652982188.0    0.0\n",
       "33661575382.0    0.0\n",
       "33660204450.0    2.0\n",
       "33695045499.0    4.0\n",
       "33762753209.0    5.0\n",
       "33667477967.0    5.0\n",
       "33699538565.0    5.0\n",
       "33660637039.0    5.0\n",
       "33659493541.0    5.0\n",
       "33668619895.0    6.0\n",
       "Name: Avg RTT, dtype: float64"
      ]
     },
     "execution_count": 72,
     "metadata": {},
     "output_type": "execute_result"
    }
   ],
   "source": [
    "# Bottom 10 AVG RTT\n",
    "compute_bound(dfExp,'Avg RTT',10,ascending=True)"
   ]
  },
  {
   "cell_type": "code",
   "execution_count": 73,
   "id": "e867ea4f",
   "metadata": {},
   "outputs": [
    {
     "data": {
      "text/plain": [
       "50.0     20337\n",
       "29.0      2777\n",
       "100.0     2614\n",
       "39.0      2257\n",
       "49.0      2070\n",
       "48.0      1901\n",
       "47.0      1715\n",
       "38.0      1529\n",
       "51.0      1509\n",
       "30.0      1473\n",
       "Name: Avg RTT, dtype: int64"
      ]
     },
     "execution_count": 73,
     "metadata": {},
     "output_type": "execute_result"
    }
   ],
   "source": [
    "# Bottom 10 most frequent AVG RTT\n",
    "compute_frequent(dfExp,'Avg RTT',10)"
   ]
  },
  {
   "cell_type": "markdown",
   "id": "01126e7e",
   "metadata": {},
   "source": [
    "### c.\tThroughput values in the dataset."
   ]
  },
  {
   "cell_type": "code",
   "execution_count": 74,
   "id": "84869b3d",
   "metadata": {},
   "outputs": [
    {
     "data": {
      "text/plain": [
       "MSISDN/Number\n",
       "33626320676.0    3576.0\n",
       "33625779332.0    3370.0\n",
       "33614892860.0    3366.0\n",
       "33659725664.0    3150.0\n",
       "33760536639.0    2985.0\n",
       "33675877202.0    2888.0\n",
       "33667163239.0    2567.0\n",
       "33786323068.0    2400.0\n",
       "33627080969.0    2384.0\n",
       "33604515716.0    2369.0\n",
       "Name: Avg Throughput, dtype: float64"
      ]
     },
     "execution_count": 74,
     "metadata": {},
     "output_type": "execute_result"
    }
   ],
   "source": [
    "# Top 10 AVG Throughput\n",
    "compute_bound(dfExp,'Avg Throughput',10)"
   ]
  },
  {
   "cell_type": "code",
   "execution_count": 75,
   "id": "efd1927a",
   "metadata": {},
   "outputs": [
    {
     "data": {
      "text/plain": [
       "MSISDN/Number\n",
       "33658887999.0    176.0\n",
       "33626828504.0    176.0\n",
       "33763924848.0    176.0\n",
       "33629706414.0    176.0\n",
       "33622311562.0    176.0\n",
       "33658122029.0    176.0\n",
       "33623452263.0    176.0\n",
       "33762192787.0    176.0\n",
       "33698448074.0    176.0\n",
       "33660056616.0    176.0\n",
       "Name: Avg Throughput, dtype: float64"
      ]
     },
     "execution_count": 75,
     "metadata": {},
     "output_type": "execute_result"
    }
   ],
   "source": [
    "# Bottom 10 AVG Throughput\n",
    "compute_bound(dfExp,'Avg Throughput',10,ascending=True)"
   ]
  },
  {
   "cell_type": "code",
   "execution_count": 76,
   "id": "322409c0",
   "metadata": {},
   "outputs": [
    {
     "data": {
      "text/plain": [
       "200.0    50751\n",
       "400.0     8666\n",
       "199.0     5680\n",
       "198.0     5159\n",
       "197.0     3637\n",
       "398.0     2086\n",
       "196.0     2058\n",
       "399.0     1751\n",
       "397.0     1582\n",
       "600.0     1231\n",
       "Name: Avg Throughput, dtype: int64"
      ]
     },
     "execution_count": 76,
     "metadata": {},
     "output_type": "execute_result"
    }
   ],
   "source": [
    "# Bottom 10 most frequent AVG Throughput\n",
    "compute_frequent(dfExp,'Avg Throughput',10)"
   ]
  },
  {
   "cell_type": "markdown",
   "id": "3ce3ee35",
   "metadata": {},
   "source": [
    "## Task 3.3 - Compute & report:\n",
    "d.\tThe distribution of the average throughput  per handset type and provide interpretation for your findings.<br>\n",
    "e.\tThe average TCP retransmission view per handset type and provide interpretation for your findings.\n"
   ]
  },
  {
   "cell_type": "code",
   "execution_count": 93,
   "id": "d42a5af2",
   "metadata": {},
   "outputs": [],
   "source": [
    "expHandset = dfTask3.groupby('Handset Type').agg({'Total Throughput': 'mean', 'Total RTT': 'mean'}).sort_values('Total Throughput',ascending=False)"
   ]
  },
  {
   "cell_type": "code",
   "execution_count": 92,
   "id": "c8e57ede",
   "metadata": {},
   "outputs": [],
   "source": [
    "# FUNCTION FOR PLOTTING\n",
    "def plot_hist(df:pd.DataFrame, column:str, color:str)->None:\n",
    "    # plt.figure(figsize=(15, 10))\n",
    "    # fig, ax = plt.subplots(1, figsize=(12, 7))\n",
    "    sns.displot(data=df, x=column, color=color, kde=True, height=7, aspect=2)\n",
    "    plt.title(f'Distribution of {column}', size=20, fontweight='bold')\n",
    "    plt.show()"
   ]
  },
  {
   "cell_type": "code",
   "execution_count": 94,
   "id": "7daed9dd",
   "metadata": {},
   "outputs": [
    {
     "data": {
      "image/png": "[encoded data removed]",
      "text/plain": [
       "<Figure size 1008x504 with 1 Axes>"
      ]
     },
     "metadata": {
      "needs_background": "light"
     },
     "output_type": "display_data"
    }
   ],
   "source": [
    "plot_hist(expHandset,'Total Throughput','blue')"
   ]
  },
  {
   "cell_type": "code",
   "execution_count": 95,
   "id": "9d5365c4",
   "metadata": {},
   "outputs": [
    {
     "data": {
      "image/png": "[encoded data removed]",
      "text/plain": [
       "<Figure size 1008x504 with 1 Axes>"
      ]
     },
     "metadata": {
      "needs_background": "light"
     },
     "output_type": "display_data"
    }
   ],
   "source": [
    "plot_hist(expHandset,'Total RTT','blue')"
   ]
  },
  {
   "cell_type": "markdown",
   "id": "9f1c2ea5",
   "metadata": {},
   "source": [
    "### KMEANS"
   ]
  },
  {
   "cell_type": "code",
   "execution_count": 96,
   "id": "d0a45392",
   "metadata": {},
   "outputs": [],
   "source": [
    "from sklearn.preprocessing import Normalizer, MinMaxScaler\n",
    "from sklearn.cluster import KMeans\n",
    "\n",
    "\n",
    "def normalizer(df, columns):\n",
    "    norm = Normalizer()\n",
    "    return pd.DataFrame(norm.fit_transform(df), columns=columns)\n",
    "\n",
    "def scaler(df, columns):\n",
    "    minmax_scaler = MinMaxScaler()\n",
    "    return pd.DataFrame(minmax_scaler.fit_transform(df), columns=columns)\n",
    "\n",
    "def scale_normalize(df,columns ):\n",
    "    return normalizer(scaler(df, columns), columns)"
   ]
  },
  {
   "cell_type": "code",
   "execution_count": 97,
   "id": "3ed46687",
   "metadata": {},
   "outputs": [
    {
     "data": {
      "text/plain": [
       "['Avg TCP', 'Avg RTT', 'Avg Throughput', 'Handset Type']"
      ]
     },
     "execution_count": 97,
     "metadata": {},
     "output_type": "execute_result"
    }
   ],
   "source": [
    "dfExp.columns.to_list()"
   ]
  },
  {
   "cell_type": "code",
   "execution_count": null,
   "id": "646866bf",
   "metadata": {},
   "outputs": [],
   "source": [
    "dfKmeans = dfExp['Avg TCP', 'Avg RTT', 'Avg Throughput']\n",
    "dfKmeansScale = scale_normalize(dfKmeans,['Avg TCP', 'Avg RTT', 'Avg Throughput'])\n",
    "kmeans = KMeans(n_clusters=3)\n",
    "k"
   ]
  }
 ],
 "metadata": {
  "kernelspec": {
   "display_name": "Python 3",
   "language": "python",
   "name": "python3"
  },
  "language_info": {
   "codemirror_mode": {
    "name": "ipython",
    "version": 3
   },
   "file_extension": ".py",
   "mimetype": "text/x-python",
   "name": "python",
   "nbconvert_exporter": "python",
   "pygments_lexer": "ipython3",
   "version": "3.8.8"
  }
 },
 "nbformat": 4,
 "nbformat_minor": 5
}
